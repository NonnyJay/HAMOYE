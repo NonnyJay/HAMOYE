{
 "cells": [
  {
   "cell_type": "code",
   "execution_count": 1,
   "id": "e9598a3d-748a-48d7-a395-003fe59c8e0c",
   "metadata": {},
   "outputs": [],
   "source": [
    "import numpy as np\n",
    "import pandas as pd\n",
    "import os\n",
    "import matplotlib.pyplot as plt\n",
    "import seaborn as sns\n",
    "%matplotlib inline"
   ]
  },
  {
   "cell_type": "code",
   "execution_count": 2,
   "id": "dbf56307-23e8-4258-8e67-6f275cb87b47",
   "metadata": {},
   "outputs": [],
   "source": [
    "df_quiz2_data = pd.read_csv('energydata_complete.csv')\n",
    "df = df_quiz2_data.drop(columns = ['date','lights'])"
   ]
  },
  {
   "cell_type": "code",
   "execution_count": 3,
   "id": "21442063-a4b1-4da0-8c6f-0ac9ed710b42",
   "metadata": {},
   "outputs": [],
   "source": [
    "## Data normalising exercise using min max scaler\n",
    "\n",
    "from sklearn.preprocessing import MinMaxScaler\n",
    "minmaxscaler = MinMaxScaler()\n",
    "normalised_df = pd.DataFrame(minmaxscaler.fit_transform(df), columns=df.columns)\n",
    "\n",
    "#normalised_df = normalised_df.iloc[:, :-2]\n",
    "#normalised_df_ts\n",
    "features_df = normalised_df.drop(columns = ['Appliances'])\n",
    "#features_df_ts\n",
    "target_df = normalised_df['Appliances']"
   ]
  },
  {
   "cell_type": "markdown",
   "id": "acb1f02d-c342-4acb-a9df-838b357ef125",
   "metadata": {},
   "source": [
    "#### DATA SPLITTING, TRAINING and PREDICTION"
   ]
  },
  {
   "cell_type": "code",
   "execution_count": 4,
   "id": "cbd006c4-b2c2-4bb1-9f2b-e7e88740eca9",
   "metadata": {},
   "outputs": [
    {
     "data": {
      "text/plain": [
       "LinearRegression()"
      ]
     },
     "execution_count": 4,
     "metadata": {},
     "output_type": "execute_result"
    }
   ],
   "source": [
    "## Splitting Data to test and train\n",
    "\n",
    "from sklearn.model_selection import train_test_split\n",
    "X_train,X_test,y_train,y_test = train_test_split(features_df, target_df, test_size=0.3, random_state=42)\n",
    "\n",
    "\n",
    "##Fitting Model to training dataset\n",
    "from sklearn.linear_model import LinearRegression\n",
    "\n",
    "regressor = LinearRegression()\n",
    "regressor.fit(X_train,y_train)"
   ]
  },
  {
   "cell_type": "code",
   "execution_count": 5,
   "id": "5326f2ec-0892-4822-b3b7-89525378f478",
   "metadata": {},
   "outputs": [
    {
     "data": {
      "text/plain": [
       "array([0.03319646, 0.24412988, 0.03410198, ..., 0.06836907, 0.10029337,\n",
       "       0.05730947])"
      ]
     },
     "execution_count": 5,
     "metadata": {},
     "output_type": "execute_result"
    }
   ],
   "source": [
    "### Predicted Values\n",
    "predicted_values = regressor.predict(X_test)\n",
    "predicted_values"
   ]
  },
  {
   "cell_type": "code",
   "execution_count": 6,
   "id": "19fc8db7-6548-4875-bfaa-eeebac658404",
   "metadata": {},
   "outputs": [
    {
     "name": "stdout",
     "output_type": "stream",
     "text": [
      "[-3.28105119e-03  5.53703508e-01 -2.36423473e-01 -4.57053389e-01\n",
      "  2.90777153e-01  9.60574341e-02  2.90314601e-02  2.64573922e-02\n",
      " -1.56380557e-02  1.60012115e-02  2.36394899e-01  3.80596667e-02\n",
      "  1.02549869e-02 -4.45512512e-02  1.02005866e-01 -1.57710295e-01\n",
      " -1.89918324e-01 -3.97966436e-02 -3.21535054e-01  6.87241608e-03\n",
      " -7.74442149e-02  2.92338967e-02  1.22935616e-02  1.17597874e-01\n",
      " -3.02285590e+11  3.02285590e+11]\n",
      "0.1529113259397064\n"
     ]
    }
   ],
   "source": [
    "## Print Coeffcient and Intercept\n",
    "print(regressor.coef_)\n",
    "print(regressor.intercept_)"
   ]
  },
  {
   "cell_type": "markdown",
   "id": "e346e51a-fde0-422d-8f67-ae0ebab71508",
   "metadata": {},
   "source": [
    "#### MEAN ABSOLUTE ERROR - SUM OF ABSOLUTE ERRORS"
   ]
  },
  {
   "cell_type": "code",
   "execution_count": 7,
   "id": "27ec5dac-4325-4446-889a-23ceb8c7407d",
   "metadata": {},
   "outputs": [
    {
     "data": {
      "text/plain": [
       "0.05"
      ]
     },
     "execution_count": 7,
     "metadata": {},
     "output_type": "execute_result"
    }
   ],
   "source": [
    "## lOWER MAE (0)- The better the model estimation\n",
    "\n",
    "## Evaluate Model\n",
    "from sklearn.metrics import mean_absolute_error\n",
    "mae = mean_absolute_error(y_test, predicted_values)\n",
    "mae.round(decimals=3)"
   ]
  },
  {
   "cell_type": "markdown",
   "id": "af98556a-07d6-48ce-b5c3-ce6b479744d4",
   "metadata": {},
   "source": [
    "#### SUM OF SQUARE RESIDUAL/ERROR (SSR/RSS)"
   ]
  },
  {
   "cell_type": "code",
   "execution_count": 8,
   "id": "66fcafb4-2475-4ace-b593-db2d9d4f52db",
   "metadata": {},
   "outputs": [
    {
     "data": {
      "text/plain": [
       "45.344"
      ]
     },
     "execution_count": 8,
     "metadata": {},
     "output_type": "execute_result"
    }
   ],
   "source": [
    "## lOWER SSR- The better the model estimation\n",
    "\n",
    "rss = np.sum(np.square(y_test - predicted_values))\n",
    "round(rss,3)"
   ]
  },
  {
   "cell_type": "markdown",
   "id": "99a80d0a-6e1b-4a30-9a52-4d86d1424f73",
   "metadata": {},
   "source": [
    "#### ROOT MEAN SQUARE ERROR (RMSE)"
   ]
  },
  {
   "cell_type": "code",
   "execution_count": 9,
   "id": "6a513033-72b4-4fde-bfc0-a992bb01bfab",
   "metadata": {},
   "outputs": [
    {
     "data": {
      "text/plain": [
       "0.088"
      ]
     },
     "execution_count": 9,
     "metadata": {},
     "output_type": "execute_result"
    }
   ],
   "source": [
    "## lOW RMSE - The better the model estimation\n",
    "\n",
    "from sklearn.metrics import mean_squared_error\n",
    "rmse = np.sqrt(mean_squared_error(y_test, predicted_values))\n",
    "round(rmse,3)"
   ]
  },
  {
   "cell_type": "markdown",
   "id": "51f97764-3699-41c9-9b89-fb4c79d2dc79",
   "metadata": {},
   "source": [
    "#### R-SQUARED (R2)"
   ]
  },
  {
   "cell_type": "code",
   "execution_count": 10,
   "id": "6496488c-3734-4746-8760-7a7e0c53a5ad",
   "metadata": {},
   "outputs": [
    {
     "data": {
      "text/plain": [
       "0.149"
      ]
     },
     "execution_count": 10,
     "metadata": {},
     "output_type": "execute_result"
    }
   ],
   "source": [
    "## Higher the R-square : The Better the model\n",
    "\n",
    "from sklearn.metrics import r2_score\n",
    "r2_score = r2_score(y_test, predicted_values)\n",
    "round(r2_score, 3)"
   ]
  },
  {
   "cell_type": "markdown",
   "id": "4068fcec-7673-44bf-9d89-fd6c7e62cbdf",
   "metadata": {},
   "source": [
    "#### RIDGE REGRESSION"
   ]
  },
  {
   "cell_type": "code",
   "execution_count": 11,
   "id": "70c1de6f-c185-48ed-a2cc-cc56f37ad5dd",
   "metadata": {},
   "outputs": [
    {
     "name": "stdout",
     "output_type": "stream",
     "text": [
      "[-0.02154858  0.51193201 -0.19387955 -0.40113385  0.28740783  0.09497599\n",
      "  0.02700573  0.02416813 -0.0207269   0.01617566  0.21331574  0.03502308\n",
      "  0.0100213  -0.04629091  0.10075383 -0.15659589 -0.18858431 -0.04170062\n",
      " -0.25076497  0.00651632 -0.05054104  0.03046327  0.01203158  0.07666802\n",
      "  0.00074348  0.00074348]\n",
      "0.12268912308452232\n"
     ]
    }
   ],
   "source": [
    "from sklearn.linear_model import Ridge\n",
    "ridge_reg = Ridge(alpha=0.5)\n",
    "ridge_reg.fit(X_train,y_train)\n",
    "print(ridge_reg.coef_)\n",
    "print(ridge_reg.intercept_)"
   ]
  },
  {
   "cell_type": "markdown",
   "id": "c93b0a5b-27b2-4299-893b-55ae46b06659",
   "metadata": {},
   "source": [
    "#### LASSO REGRESSION"
   ]
  },
  {
   "cell_type": "code",
   "execution_count": 12,
   "id": "df6e511f-98c5-468d-85da-76695905b306",
   "metadata": {},
   "outputs": [
    {
     "name": "stdout",
     "output_type": "stream",
     "text": [
      "[ 0.  0.  0. -0.  0.  0.  0.  0.  0.  0.  0. -0.  0. -0.  0. -0.  0. -0.\n",
      "  0. -0. -0.  0.  0.  0. -0. -0.]\n",
      "0.0819884743772064\n"
     ]
    }
   ],
   "source": [
    "from sklearn.linear_model import Lasso\n",
    "lasso_reg = Lasso(alpha=0.01)\n",
    "lasso_reg.fit(X_train,y_train)\n",
    "print(lasso_reg.coef_)\n",
    "print(lasso_reg.intercept_)"
   ]
  },
  {
   "cell_type": "code",
   "execution_count": 13,
   "id": "febaf7a4-48e4-4b95-87d3-3eb5bce5b66f",
   "metadata": {},
   "outputs": [],
   "source": [
    "## Obtain Features Weights\n",
    "\n",
    "def get_weights_df(regressor, feat, col_name):\n",
    "    #this function returns the weight of every feature\n",
    "    weights = pd.Series(regressor.coef_, feat.columns).sort_values()\n",
    "    weights_df = pd.DataFrame(weights).reset_index()\n",
    "    weights_df.columns = ['Features', col_name]\n",
    "    weights_df[col_name].round(3)\n",
    "    return weights_df\n",
    "\n",
    "linear_model_weights = get_weights_df(regressor, X_train, 'Linear_Model_Weight')\n",
    "ridge_weights_df = get_weights_df(ridge_reg, X_train, 'Ridge_Weight')\n",
    "lasso_weights_df = get_weights_df(lasso_reg, X_train, 'Lasso_weight')\n",
    "final_weights = pd.merge(linear_model_weights, ridge_weights_df, on='Features')\n",
    "final_weights = pd.merge(final_weights, lasso_weights_df, on='Features')"
   ]
  },
  {
   "cell_type": "code",
   "execution_count": 14,
   "id": "0b80f71f-e9f7-4c2c-89bd-ab67f25980ff",
   "metadata": {},
   "outputs": [
    {
     "data": {
      "text/html": [
       "<div>\n",
       "<style scoped>\n",
       "    .dataframe tbody tr th:only-of-type {\n",
       "        vertical-align: middle;\n",
       "    }\n",
       "\n",
       "    .dataframe tbody tr th {\n",
       "        vertical-align: top;\n",
       "    }\n",
       "\n",
       "    .dataframe thead th {\n",
       "        text-align: right;\n",
       "    }\n",
       "</style>\n",
       "<table border=\"1\" class=\"dataframe\">\n",
       "  <thead>\n",
       "    <tr style=\"text-align: right;\">\n",
       "      <th></th>\n",
       "      <th>Features</th>\n",
       "      <th>Linear_Model_Weight</th>\n",
       "      <th>Ridge_Weight</th>\n",
       "      <th>Lasso_weight</th>\n",
       "    </tr>\n",
       "  </thead>\n",
       "  <tbody>\n",
       "    <tr>\n",
       "      <th>0</th>\n",
       "      <td>rv1</td>\n",
       "      <td>-3.022856e+11</td>\n",
       "      <td>0.000743</td>\n",
       "      <td>-0.0</td>\n",
       "    </tr>\n",
       "    <tr>\n",
       "      <th>1</th>\n",
       "      <td>RH_2</td>\n",
       "      <td>-4.570534e-01</td>\n",
       "      <td>-0.401134</td>\n",
       "      <td>-0.0</td>\n",
       "    </tr>\n",
       "    <tr>\n",
       "      <th>2</th>\n",
       "      <td>T_out</td>\n",
       "      <td>-3.215351e-01</td>\n",
       "      <td>-0.250765</td>\n",
       "      <td>0.0</td>\n",
       "    </tr>\n",
       "    <tr>\n",
       "      <th>3</th>\n",
       "      <td>T2</td>\n",
       "      <td>-2.364235e-01</td>\n",
       "      <td>-0.193880</td>\n",
       "      <td>0.0</td>\n",
       "    </tr>\n",
       "    <tr>\n",
       "      <th>4</th>\n",
       "      <td>T9</td>\n",
       "      <td>-1.899183e-01</td>\n",
       "      <td>-0.188584</td>\n",
       "      <td>0.0</td>\n",
       "    </tr>\n",
       "    <tr>\n",
       "      <th>5</th>\n",
       "      <td>RH_8</td>\n",
       "      <td>-1.577103e-01</td>\n",
       "      <td>-0.156596</td>\n",
       "      <td>-0.0</td>\n",
       "    </tr>\n",
       "    <tr>\n",
       "      <th>6</th>\n",
       "      <td>RH_out</td>\n",
       "      <td>-7.744421e-02</td>\n",
       "      <td>-0.050541</td>\n",
       "      <td>-0.0</td>\n",
       "    </tr>\n",
       "    <tr>\n",
       "      <th>7</th>\n",
       "      <td>RH_7</td>\n",
       "      <td>-4.455125e-02</td>\n",
       "      <td>-0.046291</td>\n",
       "      <td>-0.0</td>\n",
       "    </tr>\n",
       "    <tr>\n",
       "      <th>8</th>\n",
       "      <td>RH_9</td>\n",
       "      <td>-3.979664e-02</td>\n",
       "      <td>-0.041701</td>\n",
       "      <td>-0.0</td>\n",
       "    </tr>\n",
       "    <tr>\n",
       "      <th>9</th>\n",
       "      <td>T5</td>\n",
       "      <td>-1.563806e-02</td>\n",
       "      <td>-0.020727</td>\n",
       "      <td>0.0</td>\n",
       "    </tr>\n",
       "    <tr>\n",
       "      <th>10</th>\n",
       "      <td>T1</td>\n",
       "      <td>-3.281051e-03</td>\n",
       "      <td>-0.021549</td>\n",
       "      <td>0.0</td>\n",
       "    </tr>\n",
       "    <tr>\n",
       "      <th>11</th>\n",
       "      <td>Press_mm_hg</td>\n",
       "      <td>6.872416e-03</td>\n",
       "      <td>0.006516</td>\n",
       "      <td>-0.0</td>\n",
       "    </tr>\n",
       "    <tr>\n",
       "      <th>12</th>\n",
       "      <td>T7</td>\n",
       "      <td>1.025499e-02</td>\n",
       "      <td>0.010021</td>\n",
       "      <td>0.0</td>\n",
       "    </tr>\n",
       "    <tr>\n",
       "      <th>13</th>\n",
       "      <td>Visibility</td>\n",
       "      <td>1.229356e-02</td>\n",
       "      <td>0.012032</td>\n",
       "      <td>0.0</td>\n",
       "    </tr>\n",
       "    <tr>\n",
       "      <th>14</th>\n",
       "      <td>RH_5</td>\n",
       "      <td>1.600121e-02</td>\n",
       "      <td>0.016176</td>\n",
       "      <td>0.0</td>\n",
       "    </tr>\n",
       "    <tr>\n",
       "      <th>15</th>\n",
       "      <td>RH_4</td>\n",
       "      <td>2.645739e-02</td>\n",
       "      <td>0.024168</td>\n",
       "      <td>0.0</td>\n",
       "    </tr>\n",
       "    <tr>\n",
       "      <th>16</th>\n",
       "      <td>T4</td>\n",
       "      <td>2.903146e-02</td>\n",
       "      <td>0.027006</td>\n",
       "      <td>0.0</td>\n",
       "    </tr>\n",
       "    <tr>\n",
       "      <th>17</th>\n",
       "      <td>Windspeed</td>\n",
       "      <td>2.923390e-02</td>\n",
       "      <td>0.030463</td>\n",
       "      <td>0.0</td>\n",
       "    </tr>\n",
       "    <tr>\n",
       "      <th>18</th>\n",
       "      <td>RH_6</td>\n",
       "      <td>3.805967e-02</td>\n",
       "      <td>0.035023</td>\n",
       "      <td>-0.0</td>\n",
       "    </tr>\n",
       "    <tr>\n",
       "      <th>19</th>\n",
       "      <td>RH_3</td>\n",
       "      <td>9.605743e-02</td>\n",
       "      <td>0.094976</td>\n",
       "      <td>0.0</td>\n",
       "    </tr>\n",
       "    <tr>\n",
       "      <th>20</th>\n",
       "      <td>T8</td>\n",
       "      <td>1.020059e-01</td>\n",
       "      <td>0.100754</td>\n",
       "      <td>0.0</td>\n",
       "    </tr>\n",
       "    <tr>\n",
       "      <th>21</th>\n",
       "      <td>Tdewpoint</td>\n",
       "      <td>1.175979e-01</td>\n",
       "      <td>0.076668</td>\n",
       "      <td>0.0</td>\n",
       "    </tr>\n",
       "    <tr>\n",
       "      <th>22</th>\n",
       "      <td>T6</td>\n",
       "      <td>2.363949e-01</td>\n",
       "      <td>0.213316</td>\n",
       "      <td>0.0</td>\n",
       "    </tr>\n",
       "    <tr>\n",
       "      <th>23</th>\n",
       "      <td>T3</td>\n",
       "      <td>2.907772e-01</td>\n",
       "      <td>0.287408</td>\n",
       "      <td>0.0</td>\n",
       "    </tr>\n",
       "    <tr>\n",
       "      <th>24</th>\n",
       "      <td>RH_1</td>\n",
       "      <td>5.537035e-01</td>\n",
       "      <td>0.511932</td>\n",
       "      <td>0.0</td>\n",
       "    </tr>\n",
       "    <tr>\n",
       "      <th>25</th>\n",
       "      <td>rv2</td>\n",
       "      <td>3.022856e+11</td>\n",
       "      <td>0.000743</td>\n",
       "      <td>-0.0</td>\n",
       "    </tr>\n",
       "  </tbody>\n",
       "</table>\n",
       "</div>"
      ],
      "text/plain": [
       "       Features  Linear_Model_Weight  Ridge_Weight  Lasso_weight\n",
       "0           rv1        -3.022856e+11      0.000743          -0.0\n",
       "1          RH_2        -4.570534e-01     -0.401134          -0.0\n",
       "2         T_out        -3.215351e-01     -0.250765           0.0\n",
       "3            T2        -2.364235e-01     -0.193880           0.0\n",
       "4            T9        -1.899183e-01     -0.188584           0.0\n",
       "5          RH_8        -1.577103e-01     -0.156596          -0.0\n",
       "6        RH_out        -7.744421e-02     -0.050541          -0.0\n",
       "7          RH_7        -4.455125e-02     -0.046291          -0.0\n",
       "8          RH_9        -3.979664e-02     -0.041701          -0.0\n",
       "9            T5        -1.563806e-02     -0.020727           0.0\n",
       "10           T1        -3.281051e-03     -0.021549           0.0\n",
       "11  Press_mm_hg         6.872416e-03      0.006516          -0.0\n",
       "12           T7         1.025499e-02      0.010021           0.0\n",
       "13   Visibility         1.229356e-02      0.012032           0.0\n",
       "14         RH_5         1.600121e-02      0.016176           0.0\n",
       "15         RH_4         2.645739e-02      0.024168           0.0\n",
       "16           T4         2.903146e-02      0.027006           0.0\n",
       "17    Windspeed         2.923390e-02      0.030463           0.0\n",
       "18         RH_6         3.805967e-02      0.035023          -0.0\n",
       "19         RH_3         9.605743e-02      0.094976           0.0\n",
       "20           T8         1.020059e-01      0.100754           0.0\n",
       "21    Tdewpoint         1.175979e-01      0.076668           0.0\n",
       "22           T6         2.363949e-01      0.213316           0.0\n",
       "23           T3         2.907772e-01      0.287408           0.0\n",
       "24         RH_1         5.537035e-01      0.511932           0.0\n",
       "25          rv2         3.022856e+11      0.000743          -0.0"
      ]
     },
     "execution_count": 14,
     "metadata": {},
     "output_type": "execute_result"
    }
   ],
   "source": [
    "final_weights"
   ]
  },
  {
   "cell_type": "code",
   "execution_count": 15,
   "id": "27d01cfa-8803-4d92-bfdd-5b100630714a",
   "metadata": {},
   "outputs": [
    {
     "data": {
      "text/html": [
       "<div>\n",
       "<style scoped>\n",
       "    .dataframe tbody tr th:only-of-type {\n",
       "        vertical-align: middle;\n",
       "    }\n",
       "\n",
       "    .dataframe tbody tr th {\n",
       "        vertical-align: top;\n",
       "    }\n",
       "\n",
       "    .dataframe thead th {\n",
       "        text-align: right;\n",
       "    }\n",
       "</style>\n",
       "<table border=\"1\" class=\"dataframe\">\n",
       "  <thead>\n",
       "    <tr style=\"text-align: right;\">\n",
       "      <th></th>\n",
       "      <th>Linear_Model_Weight</th>\n",
       "      <th>Ridge_Weight</th>\n",
       "      <th>Lasso_weight</th>\n",
       "    </tr>\n",
       "  </thead>\n",
       "  <tbody>\n",
       "    <tr>\n",
       "      <th>count</th>\n",
       "      <td>2.600000e+01</td>\n",
       "      <td>26.000000</td>\n",
       "      <td>26.0</td>\n",
       "    </tr>\n",
       "    <tr>\n",
       "      <th>mean</th>\n",
       "      <td>8.709247e-04</td>\n",
       "      <td>0.002930</td>\n",
       "      <td>0.0</td>\n",
       "    </tr>\n",
       "    <tr>\n",
       "      <th>std</th>\n",
       "      <td>8.549928e+10</td>\n",
       "      <td>0.172954</td>\n",
       "      <td>0.0</td>\n",
       "    </tr>\n",
       "    <tr>\n",
       "      <th>min</th>\n",
       "      <td>-3.022856e+11</td>\n",
       "      <td>-0.401134</td>\n",
       "      <td>-0.0</td>\n",
       "    </tr>\n",
       "    <tr>\n",
       "      <th>25%</th>\n",
       "      <td>-6.922097e-02</td>\n",
       "      <td>-0.045143</td>\n",
       "      <td>0.0</td>\n",
       "    </tr>\n",
       "    <tr>\n",
       "      <th>50%</th>\n",
       "      <td>1.127427e-02</td>\n",
       "      <td>0.008269</td>\n",
       "      <td>0.0</td>\n",
       "    </tr>\n",
       "    <tr>\n",
       "      <th>75%</th>\n",
       "      <td>8.155799e-02</td>\n",
       "      <td>0.033883</td>\n",
       "      <td>0.0</td>\n",
       "    </tr>\n",
       "    <tr>\n",
       "      <th>max</th>\n",
       "      <td>3.022856e+11</td>\n",
       "      <td>0.511932</td>\n",
       "      <td>-0.0</td>\n",
       "    </tr>\n",
       "  </tbody>\n",
       "</table>\n",
       "</div>"
      ],
      "text/plain": [
       "       Linear_Model_Weight  Ridge_Weight  Lasso_weight\n",
       "count         2.600000e+01     26.000000          26.0\n",
       "mean          8.709247e-04      0.002930           0.0\n",
       "std           8.549928e+10      0.172954           0.0\n",
       "min          -3.022856e+11     -0.401134          -0.0\n",
       "25%          -6.922097e-02     -0.045143           0.0\n",
       "50%           1.127427e-02      0.008269           0.0\n",
       "75%           8.155799e-02      0.033883           0.0\n",
       "max           3.022856e+11      0.511932          -0.0"
      ]
     },
     "execution_count": 15,
     "metadata": {},
     "output_type": "execute_result"
    }
   ],
   "source": [
    "final_weights.describe()"
   ]
  },
  {
   "cell_type": "markdown",
   "id": "f58cfe30-4fec-49e4-bed0-d97d3b6f2926",
   "metadata": {},
   "source": [
    "#### QUIZ QUESTION"
   ]
  },
  {
   "cell_type": "code",
   "execution_count": 16,
   "id": "094e8b52-4e43-4ee8-a622-c6bbad3f92c6",
   "metadata": {},
   "outputs": [
    {
     "name": "stdout",
     "output_type": "stream",
     "text": [
      "[0.22534529 0.22534529 0.22534529 ... 0.69265118 0.67705355 0.66617051]\n",
      "[0.3810702  0.37544268 0.36748654 ... 0.86426042 0.82952506 0.78858002]\n"
     ]
    }
   ],
   "source": [
    "features_df_ts = np.array(normalised_df['T2'])\n",
    "target_df_ts = np.array(normalised_df['T6'])\n",
    "print(features_df_ts)\n",
    "print(target_df_ts)"
   ]
  },
  {
   "cell_type": "code",
   "execution_count": 17,
   "id": "cfa7f28c-eefd-4919-b108-0abc9f82b666",
   "metadata": {},
   "outputs": [],
   "source": [
    "## Splitting Data to test and train\n",
    "\n",
    "from sklearn.model_selection import train_test_split\n",
    "X_train,X_test,y_train,y_test = train_test_split(features_df_ts.reshape(-1, 1), target_df_ts, test_size=0.3, random_state=42)"
   ]
  },
  {
   "cell_type": "code",
   "execution_count": 18,
   "id": "8b9bf3fb-d25e-460b-9e3a-dd551c8077f1",
   "metadata": {},
   "outputs": [
    {
     "data": {
      "text/plain": [
       "array([0.23928945, 0.46794238, 0.23108472, ..., 0.3001772 , 0.4297256 ,\n",
       "       0.3217686 ])"
      ]
     },
     "execution_count": 18,
     "metadata": {},
     "output_type": "execute_result"
    }
   ],
   "source": [
    "##Fitting Model to training dataset\n",
    "from sklearn.linear_model import LinearRegression\n",
    "\n",
    "regressorb = LinearRegression()\n",
    "regressorb.fit(X_train,y_train)\n",
    "\n",
    "predicted_values = regressorb.predict(X_test)\n",
    "predicted_values"
   ]
  },
  {
   "cell_type": "code",
   "execution_count": 19,
   "id": "36603e31-3ab3-468e-b06c-0fc4b6707a95",
   "metadata": {},
   "outputs": [
    {
     "name": "stdout",
     "output_type": "stream",
     "text": [
      "[0.8910771]\n",
      "0.1317642776188842\n"
     ]
    }
   ],
   "source": [
    "## Print Coeffcient and Intercept\n",
    "\n",
    "print(regressorb.coef_)\n",
    "print(regressorb.intercept_)"
   ]
  },
  {
   "cell_type": "code",
   "execution_count": 20,
   "id": "11ee2a45-7560-4a4d-a4d1-8d0003a2f9f4",
   "metadata": {},
   "outputs": [
    {
     "data": {
      "text/plain": [
       "0.64"
      ]
     },
     "execution_count": 20,
     "metadata": {},
     "output_type": "execute_result"
    }
   ],
   "source": [
    "### Calculating R2 score\n",
    "\n",
    "from sklearn.metrics import r2_score\n",
    "r2_score = r2_score(y_test, predicted_values)\n",
    "round(r2_score, 2)"
   ]
  },
  {
   "cell_type": "code",
   "execution_count": 21,
   "id": "760ac035-9191-4b78-9908-7972cf8b3ee1",
   "metadata": {},
   "outputs": [
    {
     "data": {
      "text/plain": [
       "0.08"
      ]
     },
     "execution_count": 21,
     "metadata": {},
     "output_type": "execute_result"
    }
   ],
   "source": [
    "## Evaluate Model using MAE\n",
    "\n",
    "from sklearn.metrics import mean_absolute_error\n",
    "mae = mean_absolute_error(y_test, predicted_values)\n",
    "mae.round(decimals=2)"
   ]
  },
  {
   "cell_type": "code",
   "execution_count": 22,
   "id": "d955c5bf-85f4-4500-ac1a-08b7b47cf1a6",
   "metadata": {},
   "outputs": [
    {
     "data": {
      "text/plain": [
       "66.12"
      ]
     },
     "execution_count": 22,
     "metadata": {},
     "output_type": "execute_result"
    }
   ],
   "source": [
    "## lOWER SSR- The better the model estimation\n",
    "\n",
    "rss = np.sum(np.square(y_test - predicted_values))\n",
    "round(rss,2)"
   ]
  },
  {
   "cell_type": "code",
   "execution_count": 23,
   "id": "e783a4a5-37d8-4334-9611-fe8e29dbea6a",
   "metadata": {},
   "outputs": [
    {
     "data": {
      "text/plain": [
       "0.11"
      ]
     },
     "execution_count": 23,
     "metadata": {},
     "output_type": "execute_result"
    }
   ],
   "source": [
    "## lOW RMSE - The better the model estimation\n",
    "\n",
    "from sklearn.metrics import mean_squared_error\n",
    "rmse = np.sqrt(mean_squared_error(y_test, predicted_values))\n",
    "round(rmse,2)"
   ]
  },
  {
   "cell_type": "code",
   "execution_count": 24,
   "id": "c68a32d4-79d1-42f0-8751-c6f8e7e339ef",
   "metadata": {},
   "outputs": [
    {
     "name": "stdout",
     "output_type": "stream",
     "text": [
      "[0.8900643]\n",
      "0.13207647500100234\n"
     ]
    }
   ],
   "source": [
    "from sklearn.linear_model import Ridge\n",
    "ridge_regb = Ridge(alpha=0.4)\n",
    "ridge_regb.fit(X_train,y_train)\n",
    "print(ridge_regb.coef_)\n",
    "print(ridge_regb.intercept_)"
   ]
  },
  {
   "cell_type": "code",
   "execution_count": 25,
   "id": "abdefe0b-c628-42d5-addb-81408ddba0f4",
   "metadata": {},
   "outputs": [
    {
     "name": "stdout",
     "output_type": "stream",
     "text": [
      "[0.85177991]\n",
      "0.1438777132765378\n"
     ]
    }
   ],
   "source": [
    "from sklearn.linear_model import Lasso\n",
    "lasso_regb = Lasso(alpha=0.001)\n",
    "lasso_regb.fit(X_train,y_train)\n",
    "print(lasso_regb.coef_)\n",
    "print(lasso_regb.intercept_)"
   ]
  },
  {
   "cell_type": "code",
   "execution_count": 26,
   "id": "7bee18e2-d7b4-47df-b159-6162616bce5c",
   "metadata": {},
   "outputs": [],
   "source": [
    "## Obtain Features Weights\n",
    "\n",
    "def get_weights_df(regressorb, feat, col_name):\n",
    "    #this function returns the weight of every feature\n",
    "    #weights = pd.Series(regressor.coef_, feat.columns).sort_values()\n",
    "    weights = pd.Series(regressorb.coef_).sort_values()\n",
    "    weights_df = pd.DataFrame(weights).reset_index()\n",
    "    weights_df.columns = ['Features', col_name]\n",
    "    weights_df[col_name].round(3)\n",
    "    return weights_df\n",
    "\n",
    "linear_model_weightsb = get_weights_df(regressorb, X_train, 'Linear_Model_Weight')\n",
    "ridge_weights_dfb = get_weights_df(ridge_regb, X_train, 'Ridge_Weight')\n",
    "lasso_weights_dfb = get_weights_df(lasso_regb, X_train, 'Lasso_weight')\n",
    "final_weightsb = pd.merge(linear_model_weightsb, ridge_weights_dfb, on='Features')\n",
    "final_weightsb = pd.merge(final_weightsb, lasso_weights_dfb, on='Features')"
   ]
  },
  {
   "cell_type": "code",
   "execution_count": 27,
   "id": "f10bd633-fc4d-4c4f-ad18-ab23b9907508",
   "metadata": {},
   "outputs": [
    {
     "data": {
      "text/html": [
       "<div>\n",
       "<style scoped>\n",
       "    .dataframe tbody tr th:only-of-type {\n",
       "        vertical-align: middle;\n",
       "    }\n",
       "\n",
       "    .dataframe tbody tr th {\n",
       "        vertical-align: top;\n",
       "    }\n",
       "\n",
       "    .dataframe thead th {\n",
       "        text-align: right;\n",
       "    }\n",
       "</style>\n",
       "<table border=\"1\" class=\"dataframe\">\n",
       "  <thead>\n",
       "    <tr style=\"text-align: right;\">\n",
       "      <th></th>\n",
       "      <th>Features</th>\n",
       "      <th>Linear_Model_Weight</th>\n",
       "      <th>Ridge_Weight</th>\n",
       "      <th>Lasso_weight</th>\n",
       "    </tr>\n",
       "  </thead>\n",
       "  <tbody>\n",
       "    <tr>\n",
       "      <th>0</th>\n",
       "      <td>0</td>\n",
       "      <td>0.891077</td>\n",
       "      <td>0.890064</td>\n",
       "      <td>0.85178</td>\n",
       "    </tr>\n",
       "  </tbody>\n",
       "</table>\n",
       "</div>"
      ],
      "text/plain": [
       "   Features  Linear_Model_Weight  Ridge_Weight  Lasso_weight\n",
       "0         0             0.891077      0.890064       0.85178"
      ]
     },
     "execution_count": 27,
     "metadata": {},
     "output_type": "execute_result"
    }
   ],
   "source": [
    "final_weightsb"
   ]
  },
  {
   "cell_type": "code",
   "execution_count": 28,
   "id": "f1e2dab8-1508-485c-bea4-12b2da1957c0",
   "metadata": {},
   "outputs": [
    {
     "data": {
      "text/html": [
       "<div>\n",
       "<style scoped>\n",
       "    .dataframe tbody tr th:only-of-type {\n",
       "        vertical-align: middle;\n",
       "    }\n",
       "\n",
       "    .dataframe tbody tr th {\n",
       "        vertical-align: top;\n",
       "    }\n",
       "\n",
       "    .dataframe thead th {\n",
       "        text-align: right;\n",
       "    }\n",
       "</style>\n",
       "<table border=\"1\" class=\"dataframe\">\n",
       "  <thead>\n",
       "    <tr style=\"text-align: right;\">\n",
       "      <th></th>\n",
       "      <th>Features</th>\n",
       "      <th>Linear_Model_Weight</th>\n",
       "      <th>Ridge_Weight</th>\n",
       "      <th>Lasso_weight</th>\n",
       "    </tr>\n",
       "  </thead>\n",
       "  <tbody>\n",
       "    <tr>\n",
       "      <th>count</th>\n",
       "      <td>1.0</td>\n",
       "      <td>1.000000</td>\n",
       "      <td>1.000000</td>\n",
       "      <td>1.00000</td>\n",
       "    </tr>\n",
       "    <tr>\n",
       "      <th>mean</th>\n",
       "      <td>0.0</td>\n",
       "      <td>0.891077</td>\n",
       "      <td>0.890064</td>\n",
       "      <td>0.85178</td>\n",
       "    </tr>\n",
       "    <tr>\n",
       "      <th>std</th>\n",
       "      <td>NaN</td>\n",
       "      <td>NaN</td>\n",
       "      <td>NaN</td>\n",
       "      <td>NaN</td>\n",
       "    </tr>\n",
       "    <tr>\n",
       "      <th>min</th>\n",
       "      <td>0.0</td>\n",
       "      <td>0.891077</td>\n",
       "      <td>0.890064</td>\n",
       "      <td>0.85178</td>\n",
       "    </tr>\n",
       "    <tr>\n",
       "      <th>25%</th>\n",
       "      <td>0.0</td>\n",
       "      <td>0.891077</td>\n",
       "      <td>0.890064</td>\n",
       "      <td>0.85178</td>\n",
       "    </tr>\n",
       "    <tr>\n",
       "      <th>50%</th>\n",
       "      <td>0.0</td>\n",
       "      <td>0.891077</td>\n",
       "      <td>0.890064</td>\n",
       "      <td>0.85178</td>\n",
       "    </tr>\n",
       "    <tr>\n",
       "      <th>75%</th>\n",
       "      <td>0.0</td>\n",
       "      <td>0.891077</td>\n",
       "      <td>0.890064</td>\n",
       "      <td>0.85178</td>\n",
       "    </tr>\n",
       "    <tr>\n",
       "      <th>max</th>\n",
       "      <td>0.0</td>\n",
       "      <td>0.891077</td>\n",
       "      <td>0.890064</td>\n",
       "      <td>0.85178</td>\n",
       "    </tr>\n",
       "  </tbody>\n",
       "</table>\n",
       "</div>"
      ],
      "text/plain": [
       "       Features  Linear_Model_Weight  Ridge_Weight  Lasso_weight\n",
       "count       1.0             1.000000      1.000000       1.00000\n",
       "mean        0.0             0.891077      0.890064       0.85178\n",
       "std         NaN                  NaN           NaN           NaN\n",
       "min         0.0             0.891077      0.890064       0.85178\n",
       "25%         0.0             0.891077      0.890064       0.85178\n",
       "50%         0.0             0.891077      0.890064       0.85178\n",
       "75%         0.0             0.891077      0.890064       0.85178\n",
       "max         0.0             0.891077      0.890064       0.85178"
      ]
     },
     "execution_count": 28,
     "metadata": {},
     "output_type": "execute_result"
    }
   ],
   "source": [
    "final_weightsb.describe()"
   ]
  },
  {
   "cell_type": "code",
   "execution_count": 29,
   "id": "0babc572-796c-41e3-a274-8f2d080b3211",
   "metadata": {},
   "outputs": [
    {
     "data": {
      "text/plain": [
       "0.106"
      ]
     },
     "execution_count": 29,
     "metadata": {},
     "output_type": "execute_result"
    }
   ],
   "source": [
    "## lOW RMSE - The better the model estimation\n",
    "\n",
    "from sklearn.metrics import mean_squared_error\n",
    "rmse = np.sqrt(mean_squared_error(y_test, predicted_values))\n",
    "round(rmse,3)"
   ]
  },
  {
   "cell_type": "code",
   "execution_count": null,
   "id": "922d2556-2cc0-4958-b525-3c1afc1d88a6",
   "metadata": {},
   "outputs": [],
   "source": []
  },
  {
   "cell_type": "code",
   "execution_count": null,
   "id": "657fdad4-7271-4174-9627-a4d6dc6a2787",
   "metadata": {},
   "outputs": [],
   "source": []
  }
 ],
 "metadata": {
  "kernelspec": {
   "display_name": "Python 3",
   "language": "python",
   "name": "python3"
  },
  "language_info": {
   "codemirror_mode": {
    "name": "ipython",
    "version": 3
   },
   "file_extension": ".py",
   "mimetype": "text/x-python",
   "name": "python",
   "nbconvert_exporter": "python",
   "pygments_lexer": "ipython3",
   "version": "3.8.8"
  }
 },
 "nbformat": 4,
 "nbformat_minor": 5
}
