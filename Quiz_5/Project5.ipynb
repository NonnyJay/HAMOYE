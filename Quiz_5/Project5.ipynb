{
  "nbformat": 4,
  "nbformat_minor": 0,
  "metadata": {
    "colab": {
      "name": "Project5.ipynb",
      "provenance": []
    },
    "kernelspec": {
      "name": "python3",
      "display_name": "Python 3"
    },
    "language_info": {
      "name": "python"
    }
  },
  "cells": [
    {
      "cell_type": "code",
      "metadata": {
        "id": "_vw-k9ueXjEz"
      },
      "source": [
        "import numpy as np\n",
        "import pandas as pd\n",
        "import os\n",
        "import matplotlib.pyplot as plt\n",
        "import seaborn as sns\n",
        "%matplotlib inline"
      ],
      "execution_count": 1,
      "outputs": []
    },
    {
      "cell_type": "code",
      "metadata": {
        "id": "_OhNVJNsDjPg"
      },
      "source": [
        "import csv\n",
        "from requests import get\n",
        "from io import BytesIO\n",
        "from zipfile import ZipFile\n",
        "import urllib.request as urllib2"
      ],
      "execution_count": 2,
      "outputs": []
    },
    {
      "cell_type": "code",
      "metadata": {
        "id": "NIiRdh_EDmdu"
      },
      "source": [
        "r = urllib2.urlopen(\"https://archive.ics.uci.edu/ml/machine-learning-databases/00235/household_power_consumption.zip\").read()\n",
        "file = ZipFile(BytesIO(r))\n",
        "energy_csv = file.open(\"household_power_consumption.txt\")\n",
        "df_elc = pd.read_csv(energy_csv, sep = \";\", low_memory=False, infer_datetime_format=True, parse_dates={'datetime':[0,1]}, index_col=['datetime'])\n",
        "#df_elc = pd.read_csv(energy_csv, sep = \";\", low_memory=False, infer_datetime_format=True)\n",
        "#print(df_elc)"
      ],
      "execution_count": 3,
      "outputs": []
    },
    {
      "cell_type": "code",
      "metadata": {
        "colab": {
          "base_uri": "https://localhost:8080/",
          "height": 450
        },
        "id": "0Kn5M1mVDpwB",
        "outputId": "8c095198-8072-4929-97ef-b312fcb09a12"
      },
      "source": [
        "df_elc"
      ],
      "execution_count": 4,
      "outputs": [
        {
          "output_type": "execute_result",
          "data": {
            "text/html": [
              "<div>\n",
              "<style scoped>\n",
              "    .dataframe tbody tr th:only-of-type {\n",
              "        vertical-align: middle;\n",
              "    }\n",
              "\n",
              "    .dataframe tbody tr th {\n",
              "        vertical-align: top;\n",
              "    }\n",
              "\n",
              "    .dataframe thead th {\n",
              "        text-align: right;\n",
              "    }\n",
              "</style>\n",
              "<table border=\"1\" class=\"dataframe\">\n",
              "  <thead>\n",
              "    <tr style=\"text-align: right;\">\n",
              "      <th></th>\n",
              "      <th>Global_active_power</th>\n",
              "      <th>Global_reactive_power</th>\n",
              "      <th>Voltage</th>\n",
              "      <th>Global_intensity</th>\n",
              "      <th>Sub_metering_1</th>\n",
              "      <th>Sub_metering_2</th>\n",
              "      <th>Sub_metering_3</th>\n",
              "    </tr>\n",
              "    <tr>\n",
              "      <th>datetime</th>\n",
              "      <th></th>\n",
              "      <th></th>\n",
              "      <th></th>\n",
              "      <th></th>\n",
              "      <th></th>\n",
              "      <th></th>\n",
              "      <th></th>\n",
              "    </tr>\n",
              "  </thead>\n",
              "  <tbody>\n",
              "    <tr>\n",
              "      <th>2006-12-16 17:24:00</th>\n",
              "      <td>4.216</td>\n",
              "      <td>0.418</td>\n",
              "      <td>234.840</td>\n",
              "      <td>18.400</td>\n",
              "      <td>0.000</td>\n",
              "      <td>1.000</td>\n",
              "      <td>17.0</td>\n",
              "    </tr>\n",
              "    <tr>\n",
              "      <th>2006-12-16 17:25:00</th>\n",
              "      <td>5.360</td>\n",
              "      <td>0.436</td>\n",
              "      <td>233.630</td>\n",
              "      <td>23.000</td>\n",
              "      <td>0.000</td>\n",
              "      <td>1.000</td>\n",
              "      <td>16.0</td>\n",
              "    </tr>\n",
              "    <tr>\n",
              "      <th>2006-12-16 17:26:00</th>\n",
              "      <td>5.374</td>\n",
              "      <td>0.498</td>\n",
              "      <td>233.290</td>\n",
              "      <td>23.000</td>\n",
              "      <td>0.000</td>\n",
              "      <td>2.000</td>\n",
              "      <td>17.0</td>\n",
              "    </tr>\n",
              "    <tr>\n",
              "      <th>2006-12-16 17:27:00</th>\n",
              "      <td>5.388</td>\n",
              "      <td>0.502</td>\n",
              "      <td>233.740</td>\n",
              "      <td>23.000</td>\n",
              "      <td>0.000</td>\n",
              "      <td>1.000</td>\n",
              "      <td>17.0</td>\n",
              "    </tr>\n",
              "    <tr>\n",
              "      <th>2006-12-16 17:28:00</th>\n",
              "      <td>3.666</td>\n",
              "      <td>0.528</td>\n",
              "      <td>235.680</td>\n",
              "      <td>15.800</td>\n",
              "      <td>0.000</td>\n",
              "      <td>1.000</td>\n",
              "      <td>17.0</td>\n",
              "    </tr>\n",
              "    <tr>\n",
              "      <th>...</th>\n",
              "      <td>...</td>\n",
              "      <td>...</td>\n",
              "      <td>...</td>\n",
              "      <td>...</td>\n",
              "      <td>...</td>\n",
              "      <td>...</td>\n",
              "      <td>...</td>\n",
              "    </tr>\n",
              "    <tr>\n",
              "      <th>2010-11-26 20:58:00</th>\n",
              "      <td>0.946</td>\n",
              "      <td>0.000</td>\n",
              "      <td>240.430</td>\n",
              "      <td>4.000</td>\n",
              "      <td>0.000</td>\n",
              "      <td>0.000</td>\n",
              "      <td>0.0</td>\n",
              "    </tr>\n",
              "    <tr>\n",
              "      <th>2010-11-26 20:59:00</th>\n",
              "      <td>0.944</td>\n",
              "      <td>0.000</td>\n",
              "      <td>240.000</td>\n",
              "      <td>4.000</td>\n",
              "      <td>0.000</td>\n",
              "      <td>0.000</td>\n",
              "      <td>0.0</td>\n",
              "    </tr>\n",
              "    <tr>\n",
              "      <th>2010-11-26 21:00:00</th>\n",
              "      <td>0.938</td>\n",
              "      <td>0.000</td>\n",
              "      <td>239.820</td>\n",
              "      <td>3.800</td>\n",
              "      <td>0.000</td>\n",
              "      <td>0.000</td>\n",
              "      <td>0.0</td>\n",
              "    </tr>\n",
              "    <tr>\n",
              "      <th>2010-11-26 21:01:00</th>\n",
              "      <td>0.934</td>\n",
              "      <td>0.000</td>\n",
              "      <td>239.700</td>\n",
              "      <td>3.800</td>\n",
              "      <td>0.000</td>\n",
              "      <td>0.000</td>\n",
              "      <td>0.0</td>\n",
              "    </tr>\n",
              "    <tr>\n",
              "      <th>2010-11-26 21:02:00</th>\n",
              "      <td>0.932</td>\n",
              "      <td>0.000</td>\n",
              "      <td>239.550</td>\n",
              "      <td>3.800</td>\n",
              "      <td>0.000</td>\n",
              "      <td>0.000</td>\n",
              "      <td>0.0</td>\n",
              "    </tr>\n",
              "  </tbody>\n",
              "</table>\n",
              "<p>2075259 rows × 7 columns</p>\n",
              "</div>"
            ],
            "text/plain": [
              "                    Global_active_power  ... Sub_metering_3\n",
              "datetime                                 ...               \n",
              "2006-12-16 17:24:00               4.216  ...           17.0\n",
              "2006-12-16 17:25:00               5.360  ...           16.0\n",
              "2006-12-16 17:26:00               5.374  ...           17.0\n",
              "2006-12-16 17:27:00               5.388  ...           17.0\n",
              "2006-12-16 17:28:00               3.666  ...           17.0\n",
              "...                                 ...  ...            ...\n",
              "2010-11-26 20:58:00               0.946  ...            0.0\n",
              "2010-11-26 20:59:00               0.944  ...            0.0\n",
              "2010-11-26 21:00:00               0.938  ...            0.0\n",
              "2010-11-26 21:01:00               0.934  ...            0.0\n",
              "2010-11-26 21:02:00               0.932  ...            0.0\n",
              "\n",
              "[2075259 rows x 7 columns]"
            ]
          },
          "metadata": {},
          "execution_count": 4
        }
      ]
    },
    {
      "cell_type": "markdown",
      "metadata": {
        "id": "sdgWIMYSD66w"
      },
      "source": [
        "#### **DATA WRANGLING** **EXCERCISE**"
      ]
    },
    {
      "cell_type": "code",
      "metadata": {
        "colab": {
          "base_uri": "https://localhost:8080/"
        },
        "id": "xgKsdQZxDwa3",
        "outputId": "a0f8f8b2-ead7-46de-e962-ce52d7945a3b"
      },
      "source": [
        "df_elc.isnull().sum() "
      ],
      "execution_count": 5,
      "outputs": [
        {
          "output_type": "execute_result",
          "data": {
            "text/plain": [
              "Global_active_power          0\n",
              "Global_reactive_power        0\n",
              "Voltage                      0\n",
              "Global_intensity             0\n",
              "Sub_metering_1               0\n",
              "Sub_metering_2               0\n",
              "Sub_metering_3           25979\n",
              "dtype: int64"
            ]
          },
          "metadata": {},
          "execution_count": 5
        }
      ]
    },
    {
      "cell_type": "code",
      "metadata": {
        "id": "iyZVi6hGEKcS"
      },
      "source": [
        "df_elc.replace('?', np.nan, inplace=True)"
      ],
      "execution_count": 6,
      "outputs": []
    },
    {
      "cell_type": "code",
      "metadata": {
        "colab": {
          "base_uri": "https://localhost:8080/"
        },
        "id": "HloaHmuWEQSy",
        "outputId": "f3c1bdc7-658f-478f-c153-53a2d16183ed"
      },
      "source": [
        "df_elc.isnull().sum() "
      ],
      "execution_count": 7,
      "outputs": [
        {
          "output_type": "execute_result",
          "data": {
            "text/plain": [
              "Global_active_power      25979\n",
              "Global_reactive_power    25979\n",
              "Voltage                  25979\n",
              "Global_intensity         25979\n",
              "Sub_metering_1           25979\n",
              "Sub_metering_2           25979\n",
              "Sub_metering_3           25979\n",
              "dtype: int64"
            ]
          },
          "metadata": {},
          "execution_count": 7
        }
      ]
    },
    {
      "cell_type": "code",
      "metadata": {
        "id": "v383VqUqLC-m"
      },
      "source": [
        "df_elc = df_elc.astype('float32')"
      ],
      "execution_count": 8,
      "outputs": []
    },
    {
      "cell_type": "code",
      "metadata": {
        "colab": {
          "base_uri": "https://localhost:8080/"
        },
        "id": "k5HBPJFxFrPp",
        "outputId": "24d8f931-b47d-4e9b-f31d-9f282409843a"
      },
      "source": [
        "df_elc.info()"
      ],
      "execution_count": 9,
      "outputs": [
        {
          "output_type": "stream",
          "name": "stdout",
          "text": [
            "<class 'pandas.core.frame.DataFrame'>\n",
            "DatetimeIndex: 2075259 entries, 2006-12-16 17:24:00 to 2010-11-26 21:02:00\n",
            "Data columns (total 7 columns):\n",
            " #   Column                 Dtype  \n",
            "---  ------                 -----  \n",
            " 0   Global_active_power    float32\n",
            " 1   Global_reactive_power  float32\n",
            " 2   Voltage                float32\n",
            " 3   Global_intensity       float32\n",
            " 4   Sub_metering_1         float32\n",
            " 5   Sub_metering_2         float32\n",
            " 6   Sub_metering_3         float32\n",
            "dtypes: float32(7)\n",
            "memory usage: 71.2 MB\n"
          ]
        }
      ]
    },
    {
      "cell_type": "code",
      "metadata": {
        "id": "6ybILuxvOFOU",
        "outputId": "74d6fd0c-d2ad-47ac-e6a7-ed9af68db417",
        "colab": {
          "base_uri": "https://localhost:8080/"
        }
      },
      "source": [
        "df_elc.mean()"
      ],
      "execution_count": 10,
      "outputs": [
        {
          "output_type": "execute_result",
          "data": {
            "text/plain": [
              "Global_active_power        1.091631\n",
              "Global_reactive_power      0.123704\n",
              "Voltage                  243.381332\n",
              "Global_intensity           4.629239\n",
              "Sub_metering_1             1.121923\n",
              "Sub_metering_2             1.298520\n",
              "Sub_metering_3             6.458447\n",
              "dtype: float32"
            ]
          },
          "metadata": {},
          "execution_count": 10
        }
      ]
    },
    {
      "cell_type": "code",
      "metadata": {
        "id": "DqX2kupuOMdl"
      },
      "source": [
        "df_elc.fillna(df_elc.mean(), inplace=True)"
      ],
      "execution_count": 11,
      "outputs": []
    },
    {
      "cell_type": "code",
      "metadata": {
        "id": "IZtXIQGjOWLt",
        "outputId": "635f7a16-636b-4f36-97fc-51c74e9dbbca",
        "colab": {
          "base_uri": "https://localhost:8080/"
        }
      },
      "source": [
        "df_elc.isnull().sum() "
      ],
      "execution_count": 12,
      "outputs": [
        {
          "output_type": "execute_result",
          "data": {
            "text/plain": [
              "Global_active_power      0\n",
              "Global_reactive_power    0\n",
              "Voltage                  0\n",
              "Global_intensity         0\n",
              "Sub_metering_1           0\n",
              "Sub_metering_2           0\n",
              "Sub_metering_3           0\n",
              "dtype: int64"
            ]
          },
          "metadata": {},
          "execution_count": 12
        }
      ]
    },
    {
      "cell_type": "code",
      "metadata": {
        "id": "2HAKPTugOiB4",
        "outputId": "e5e83348-9463-4468-e1ca-e0d621401895",
        "colab": {
          "base_uri": "https://localhost:8080/",
          "height": 297
        }
      },
      "source": [
        "df_elc.Global_active_power.resample('D').sum().plot(title='Global_active_power resampled over day for sum') \n",
        "plt.tight_layout()\n",
        "plt.show()   "
      ],
      "execution_count": 13,
      "outputs": [
        {
          "output_type": "display_data",
          "data": {
            "image/png": "[encoded data removed]",
            "text/plain": [
              "<Figure size 432x288 with 1 Axes>"
            ]
          },
          "metadata": {
            "needs_background": "light"
          }
        }
      ]
    },
    {
      "cell_type": "code",
      "metadata": {
        "id": "8b-HC95-WJic",
        "outputId": "fa4714ce-68a5-48c0-acb9-7f92e17f6e12",
        "colab": {
          "base_uri": "https://localhost:8080/",
          "height": 441
        }
      },
      "source": [
        "## The correlations between 'Global_intensity', 'Global_active_power'\n",
        "data_returns = df_elc.pct_change()\n",
        "sns.jointplot(x='Global_active_power', y='Global_reactive_power', data=data_returns)  \n",
        "\n",
        "plt.show()"
      ],
      "execution_count": 14,
      "outputs": [
        {
          "output_type": "display_data",
          "data": {
            "image/png": "[encoded data removed]",
            "text/plain": [
              "<Figure size 432x432 with 3 Axes>"
            ]
          },
          "metadata": {
            "needs_background": "light"
          }
        }
      ]
    },
    {
      "cell_type": "code",
      "metadata": {
        "id": "JMVPQZoRZxcj",
        "outputId": "d2245729-e3ea-4736-f683-c65870f50b90",
        "colab": {
          "base_uri": "https://localhost:8080/"
        }
      },
      "source": [
        " df_elc['Global_active_power'].corr(df_elc['Global_reactive_power'])"
      ],
      "execution_count": 15,
      "outputs": [
        {
          "output_type": "execute_result",
          "data": {
            "text/plain": [
              "0.2470170525119604"
            ]
          },
          "metadata": {},
          "execution_count": 15
        }
      ]
    },
    {
      "cell_type": "code",
      "metadata": {
        "id": "8ILnsRjkcT_Z",
        "outputId": "17139fa3-aa5c-4621-df4d-c4418e71c6bb",
        "colab": {
          "base_uri": "https://localhost:8080/"
        }
      },
      "source": [
        " df_elc['Voltage'].corr(df_elc['Global_intensity'])"
      ],
      "execution_count": 16,
      "outputs": [
        {
          "output_type": "execute_result",
          "data": {
            "text/plain": [
              "-0.409784632727921"
            ]
          },
          "metadata": {},
          "execution_count": 16
        }
      ]
    },
    {
      "cell_type": "code",
      "metadata": {
        "id": "jQaPD-tffGkQ"
      },
      "source": [
        "df_elc_daily = df_elc.resample('D').sum()"
      ],
      "execution_count": 17,
      "outputs": []
    },
    {
      "cell_type": "code",
      "metadata": {
        "id": "BtQ4dnwSiQtJ",
        "outputId": "58eed9f3-ffdc-47a8-814a-0b015031af07",
        "colab": {
          "base_uri": "https://localhost:8080/",
          "height": 450
        }
      },
      "source": [
        "df_elc_daily"
      ],
      "execution_count": 18,
      "outputs": [
        {
          "output_type": "execute_result",
          "data": {
            "text/html": [
              "<div>\n",
              "<style scoped>\n",
              "    .dataframe tbody tr th:only-of-type {\n",
              "        vertical-align: middle;\n",
              "    }\n",
              "\n",
              "    .dataframe tbody tr th {\n",
              "        vertical-align: top;\n",
              "    }\n",
              "\n",
              "    .dataframe thead th {\n",
              "        text-align: right;\n",
              "    }\n",
              "</style>\n",
              "<table border=\"1\" class=\"dataframe\">\n",
              "  <thead>\n",
              "    <tr style=\"text-align: right;\">\n",
              "      <th></th>\n",
              "      <th>Global_active_power</th>\n",
              "      <th>Global_reactive_power</th>\n",
              "      <th>Voltage</th>\n",
              "      <th>Global_intensity</th>\n",
              "      <th>Sub_metering_1</th>\n",
              "      <th>Sub_metering_2</th>\n",
              "      <th>Sub_metering_3</th>\n",
              "    </tr>\n",
              "    <tr>\n",
              "      <th>datetime</th>\n",
              "      <th></th>\n",
              "      <th></th>\n",
              "      <th></th>\n",
              "      <th></th>\n",
              "      <th></th>\n",
              "      <th></th>\n",
              "      <th></th>\n",
              "    </tr>\n",
              "  </thead>\n",
              "  <tbody>\n",
              "    <tr>\n",
              "      <th>2006-12-16</th>\n",
              "      <td>1209.176025</td>\n",
              "      <td>34.922001</td>\n",
              "      <td>93552.53125</td>\n",
              "      <td>5180.799805</td>\n",
              "      <td>0.0</td>\n",
              "      <td>546.0</td>\n",
              "      <td>4926.0</td>\n",
              "    </tr>\n",
              "    <tr>\n",
              "      <th>2006-12-17</th>\n",
              "      <td>3390.459961</td>\n",
              "      <td>226.005997</td>\n",
              "      <td>345725.31250</td>\n",
              "      <td>14398.599609</td>\n",
              "      <td>2033.0</td>\n",
              "      <td>4187.0</td>\n",
              "      <td>13341.0</td>\n",
              "    </tr>\n",
              "    <tr>\n",
              "      <th>2006-12-18</th>\n",
              "      <td>2203.825928</td>\n",
              "      <td>161.792007</td>\n",
              "      <td>347373.62500</td>\n",
              "      <td>9247.200195</td>\n",
              "      <td>1063.0</td>\n",
              "      <td>2621.0</td>\n",
              "      <td>14018.0</td>\n",
              "    </tr>\n",
              "    <tr>\n",
              "      <th>2006-12-19</th>\n",
              "      <td>1666.193970</td>\n",
              "      <td>150.942001</td>\n",
              "      <td>348479.00000</td>\n",
              "      <td>7094.000000</td>\n",
              "      <td>839.0</td>\n",
              "      <td>7602.0</td>\n",
              "      <td>6197.0</td>\n",
              "    </tr>\n",
              "    <tr>\n",
              "      <th>2006-12-20</th>\n",
              "      <td>2225.748047</td>\n",
              "      <td>160.998001</td>\n",
              "      <td>348923.62500</td>\n",
              "      <td>9313.000000</td>\n",
              "      <td>0.0</td>\n",
              "      <td>2648.0</td>\n",
              "      <td>14063.0</td>\n",
              "    </tr>\n",
              "    <tr>\n",
              "      <th>...</th>\n",
              "      <td>...</td>\n",
              "      <td>...</td>\n",
              "      <td>...</td>\n",
              "      <td>...</td>\n",
              "      <td>...</td>\n",
              "      <td>...</td>\n",
              "      <td>...</td>\n",
              "    </tr>\n",
              "    <tr>\n",
              "      <th>2010-11-22</th>\n",
              "      <td>2041.536011</td>\n",
              "      <td>142.354004</td>\n",
              "      <td>345883.84375</td>\n",
              "      <td>8660.400391</td>\n",
              "      <td>4855.0</td>\n",
              "      <td>2110.0</td>\n",
              "      <td>10136.0</td>\n",
              "    </tr>\n",
              "    <tr>\n",
              "      <th>2010-11-23</th>\n",
              "      <td>1577.536011</td>\n",
              "      <td>137.449997</td>\n",
              "      <td>346428.75000</td>\n",
              "      <td>6731.200195</td>\n",
              "      <td>1871.0</td>\n",
              "      <td>458.0</td>\n",
              "      <td>7611.0</td>\n",
              "    </tr>\n",
              "    <tr>\n",
              "      <th>2010-11-24</th>\n",
              "      <td>1796.248047</td>\n",
              "      <td>132.460007</td>\n",
              "      <td>345644.59375</td>\n",
              "      <td>7559.399902</td>\n",
              "      <td>1096.0</td>\n",
              "      <td>2848.0</td>\n",
              "      <td>12224.0</td>\n",
              "    </tr>\n",
              "    <tr>\n",
              "      <th>2010-11-25</th>\n",
              "      <td>1431.163940</td>\n",
              "      <td>116.127998</td>\n",
              "      <td>347812.21875</td>\n",
              "      <td>6004.000000</td>\n",
              "      <td>1076.0</td>\n",
              "      <td>426.0</td>\n",
              "      <td>5072.0</td>\n",
              "    </tr>\n",
              "    <tr>\n",
              "      <th>2010-11-26</th>\n",
              "      <td>1488.104004</td>\n",
              "      <td>120.826004</td>\n",
              "      <td>303487.56250</td>\n",
              "      <td>6259.799805</td>\n",
              "      <td>1080.0</td>\n",
              "      <td>385.0</td>\n",
              "      <td>9989.0</td>\n",
              "    </tr>\n",
              "  </tbody>\n",
              "</table>\n",
              "<p>1442 rows × 7 columns</p>\n",
              "</div>"
            ],
            "text/plain": [
              "            Global_active_power  ...  Sub_metering_3\n",
              "datetime                         ...                \n",
              "2006-12-16          1209.176025  ...          4926.0\n",
              "2006-12-17          3390.459961  ...         13341.0\n",
              "2006-12-18          2203.825928  ...         14018.0\n",
              "2006-12-19          1666.193970  ...          6197.0\n",
              "2006-12-20          2225.748047  ...         14063.0\n",
              "...                         ...  ...             ...\n",
              "2010-11-22          2041.536011  ...         10136.0\n",
              "2010-11-23          1577.536011  ...          7611.0\n",
              "2010-11-24          1796.248047  ...         12224.0\n",
              "2010-11-25          1431.163940  ...          5072.0\n",
              "2010-11-26          1488.104004  ...          9989.0\n",
              "\n",
              "[1442 rows x 7 columns]"
            ]
          },
          "metadata": {},
          "execution_count": 18
        }
      ]
    },
    {
      "cell_type": "code",
      "metadata": {
        "id": "TOq06qvZkikL",
        "outputId": "1632e325-1778-4152-b3ec-f880a09bc2c4",
        "colab": {
          "base_uri": "https://localhost:8080/",
          "height": 450
        }
      },
      "source": [
        "df_elc_daily"
      ],
      "execution_count": 19,
      "outputs": [
        {
          "output_type": "execute_result",
          "data": {
            "text/html": [
              "<div>\n",
              "<style scoped>\n",
              "    .dataframe tbody tr th:only-of-type {\n",
              "        vertical-align: middle;\n",
              "    }\n",
              "\n",
              "    .dataframe tbody tr th {\n",
              "        vertical-align: top;\n",
              "    }\n",
              "\n",
              "    .dataframe thead th {\n",
              "        text-align: right;\n",
              "    }\n",
              "</style>\n",
              "<table border=\"1\" class=\"dataframe\">\n",
              "  <thead>\n",
              "    <tr style=\"text-align: right;\">\n",
              "      <th></th>\n",
              "      <th>Global_active_power</th>\n",
              "      <th>Global_reactive_power</th>\n",
              "      <th>Voltage</th>\n",
              "      <th>Global_intensity</th>\n",
              "      <th>Sub_metering_1</th>\n",
              "      <th>Sub_metering_2</th>\n",
              "      <th>Sub_metering_3</th>\n",
              "    </tr>\n",
              "    <tr>\n",
              "      <th>datetime</th>\n",
              "      <th></th>\n",
              "      <th></th>\n",
              "      <th></th>\n",
              "      <th></th>\n",
              "      <th></th>\n",
              "      <th></th>\n",
              "      <th></th>\n",
              "    </tr>\n",
              "  </thead>\n",
              "  <tbody>\n",
              "    <tr>\n",
              "      <th>2006-12-16</th>\n",
              "      <td>1209.176025</td>\n",
              "      <td>34.922001</td>\n",
              "      <td>93552.53125</td>\n",
              "      <td>5180.799805</td>\n",
              "      <td>0.0</td>\n",
              "      <td>546.0</td>\n",
              "      <td>4926.0</td>\n",
              "    </tr>\n",
              "    <tr>\n",
              "      <th>2006-12-17</th>\n",
              "      <td>3390.459961</td>\n",
              "      <td>226.005997</td>\n",
              "      <td>345725.31250</td>\n",
              "      <td>14398.599609</td>\n",
              "      <td>2033.0</td>\n",
              "      <td>4187.0</td>\n",
              "      <td>13341.0</td>\n",
              "    </tr>\n",
              "    <tr>\n",
              "      <th>2006-12-18</th>\n",
              "      <td>2203.825928</td>\n",
              "      <td>161.792007</td>\n",
              "      <td>347373.62500</td>\n",
              "      <td>9247.200195</td>\n",
              "      <td>1063.0</td>\n",
              "      <td>2621.0</td>\n",
              "      <td>14018.0</td>\n",
              "    </tr>\n",
              "    <tr>\n",
              "      <th>2006-12-19</th>\n",
              "      <td>1666.193970</td>\n",
              "      <td>150.942001</td>\n",
              "      <td>348479.00000</td>\n",
              "      <td>7094.000000</td>\n",
              "      <td>839.0</td>\n",
              "      <td>7602.0</td>\n",
              "      <td>6197.0</td>\n",
              "    </tr>\n",
              "    <tr>\n",
              "      <th>2006-12-20</th>\n",
              "      <td>2225.748047</td>\n",
              "      <td>160.998001</td>\n",
              "      <td>348923.62500</td>\n",
              "      <td>9313.000000</td>\n",
              "      <td>0.0</td>\n",
              "      <td>2648.0</td>\n",
              "      <td>14063.0</td>\n",
              "    </tr>\n",
              "    <tr>\n",
              "      <th>...</th>\n",
              "      <td>...</td>\n",
              "      <td>...</td>\n",
              "      <td>...</td>\n",
              "      <td>...</td>\n",
              "      <td>...</td>\n",
              "      <td>...</td>\n",
              "      <td>...</td>\n",
              "    </tr>\n",
              "    <tr>\n",
              "      <th>2010-11-22</th>\n",
              "      <td>2041.536011</td>\n",
              "      <td>142.354004</td>\n",
              "      <td>345883.84375</td>\n",
              "      <td>8660.400391</td>\n",
              "      <td>4855.0</td>\n",
              "      <td>2110.0</td>\n",
              "      <td>10136.0</td>\n",
              "    </tr>\n",
              "    <tr>\n",
              "      <th>2010-11-23</th>\n",
              "      <td>1577.536011</td>\n",
              "      <td>137.449997</td>\n",
              "      <td>346428.75000</td>\n",
              "      <td>6731.200195</td>\n",
              "      <td>1871.0</td>\n",
              "      <td>458.0</td>\n",
              "      <td>7611.0</td>\n",
              "    </tr>\n",
              "    <tr>\n",
              "      <th>2010-11-24</th>\n",
              "      <td>1796.248047</td>\n",
              "      <td>132.460007</td>\n",
              "      <td>345644.59375</td>\n",
              "      <td>7559.399902</td>\n",
              "      <td>1096.0</td>\n",
              "      <td>2848.0</td>\n",
              "      <td>12224.0</td>\n",
              "    </tr>\n",
              "    <tr>\n",
              "      <th>2010-11-25</th>\n",
              "      <td>1431.163940</td>\n",
              "      <td>116.127998</td>\n",
              "      <td>347812.21875</td>\n",
              "      <td>6004.000000</td>\n",
              "      <td>1076.0</td>\n",
              "      <td>426.0</td>\n",
              "      <td>5072.0</td>\n",
              "    </tr>\n",
              "    <tr>\n",
              "      <th>2010-11-26</th>\n",
              "      <td>1488.104004</td>\n",
              "      <td>120.826004</td>\n",
              "      <td>303487.56250</td>\n",
              "      <td>6259.799805</td>\n",
              "      <td>1080.0</td>\n",
              "      <td>385.0</td>\n",
              "      <td>9989.0</td>\n",
              "    </tr>\n",
              "  </tbody>\n",
              "</table>\n",
              "<p>1442 rows × 7 columns</p>\n",
              "</div>"
            ],
            "text/plain": [
              "            Global_active_power  ...  Sub_metering_3\n",
              "datetime                         ...                \n",
              "2006-12-16          1209.176025  ...          4926.0\n",
              "2006-12-17          3390.459961  ...         13341.0\n",
              "2006-12-18          2203.825928  ...         14018.0\n",
              "2006-12-19          1666.193970  ...          6197.0\n",
              "2006-12-20          2225.748047  ...         14063.0\n",
              "...                         ...  ...             ...\n",
              "2010-11-22          2041.536011  ...         10136.0\n",
              "2010-11-23          1577.536011  ...          7611.0\n",
              "2010-11-24          1796.248047  ...         12224.0\n",
              "2010-11-25          1431.163940  ...          5072.0\n",
              "2010-11-26          1488.104004  ...          9989.0\n",
              "\n",
              "[1442 rows x 7 columns]"
            ]
          },
          "metadata": {},
          "execution_count": 19
        }
      ]
    },
    {
      "cell_type": "code",
      "metadata": {
        "id": "PB5zlbiXlFXY"
      },
      "source": [
        "df_elc_daily = df_elc_daily.assign(date_tt=df_elc_daily.index)"
      ],
      "execution_count": 20,
      "outputs": []
    },
    {
      "cell_type": "code",
      "metadata": {
        "id": "yxDBB_etlTvw",
        "outputId": "ca2babdf-dde6-48ed-9adf-778ddb4357d4",
        "colab": {
          "base_uri": "https://localhost:8080/",
          "height": 450
        }
      },
      "source": [
        "df_elc_daily"
      ],
      "execution_count": 21,
      "outputs": [
        {
          "output_type": "execute_result",
          "data": {
            "text/html": [
              "<div>\n",
              "<style scoped>\n",
              "    .dataframe tbody tr th:only-of-type {\n",
              "        vertical-align: middle;\n",
              "    }\n",
              "\n",
              "    .dataframe tbody tr th {\n",
              "        vertical-align: top;\n",
              "    }\n",
              "\n",
              "    .dataframe thead th {\n",
              "        text-align: right;\n",
              "    }\n",
              "</style>\n",
              "<table border=\"1\" class=\"dataframe\">\n",
              "  <thead>\n",
              "    <tr style=\"text-align: right;\">\n",
              "      <th></th>\n",
              "      <th>Global_active_power</th>\n",
              "      <th>Global_reactive_power</th>\n",
              "      <th>Voltage</th>\n",
              "      <th>Global_intensity</th>\n",
              "      <th>Sub_metering_1</th>\n",
              "      <th>Sub_metering_2</th>\n",
              "      <th>Sub_metering_3</th>\n",
              "      <th>date_tt</th>\n",
              "    </tr>\n",
              "    <tr>\n",
              "      <th>datetime</th>\n",
              "      <th></th>\n",
              "      <th></th>\n",
              "      <th></th>\n",
              "      <th></th>\n",
              "      <th></th>\n",
              "      <th></th>\n",
              "      <th></th>\n",
              "      <th></th>\n",
              "    </tr>\n",
              "  </thead>\n",
              "  <tbody>\n",
              "    <tr>\n",
              "      <th>2006-12-16</th>\n",
              "      <td>1209.176025</td>\n",
              "      <td>34.922001</td>\n",
              "      <td>93552.53125</td>\n",
              "      <td>5180.799805</td>\n",
              "      <td>0.0</td>\n",
              "      <td>546.0</td>\n",
              "      <td>4926.0</td>\n",
              "      <td>2006-12-16</td>\n",
              "    </tr>\n",
              "    <tr>\n",
              "      <th>2006-12-17</th>\n",
              "      <td>3390.459961</td>\n",
              "      <td>226.005997</td>\n",
              "      <td>345725.31250</td>\n",
              "      <td>14398.599609</td>\n",
              "      <td>2033.0</td>\n",
              "      <td>4187.0</td>\n",
              "      <td>13341.0</td>\n",
              "      <td>2006-12-17</td>\n",
              "    </tr>\n",
              "    <tr>\n",
              "      <th>2006-12-18</th>\n",
              "      <td>2203.825928</td>\n",
              "      <td>161.792007</td>\n",
              "      <td>347373.62500</td>\n",
              "      <td>9247.200195</td>\n",
              "      <td>1063.0</td>\n",
              "      <td>2621.0</td>\n",
              "      <td>14018.0</td>\n",
              "      <td>2006-12-18</td>\n",
              "    </tr>\n",
              "    <tr>\n",
              "      <th>2006-12-19</th>\n",
              "      <td>1666.193970</td>\n",
              "      <td>150.942001</td>\n",
              "      <td>348479.00000</td>\n",
              "      <td>7094.000000</td>\n",
              "      <td>839.0</td>\n",
              "      <td>7602.0</td>\n",
              "      <td>6197.0</td>\n",
              "      <td>2006-12-19</td>\n",
              "    </tr>\n",
              "    <tr>\n",
              "      <th>2006-12-20</th>\n",
              "      <td>2225.748047</td>\n",
              "      <td>160.998001</td>\n",
              "      <td>348923.62500</td>\n",
              "      <td>9313.000000</td>\n",
              "      <td>0.0</td>\n",
              "      <td>2648.0</td>\n",
              "      <td>14063.0</td>\n",
              "      <td>2006-12-20</td>\n",
              "    </tr>\n",
              "    <tr>\n",
              "      <th>...</th>\n",
              "      <td>...</td>\n",
              "      <td>...</td>\n",
              "      <td>...</td>\n",
              "      <td>...</td>\n",
              "      <td>...</td>\n",
              "      <td>...</td>\n",
              "      <td>...</td>\n",
              "      <td>...</td>\n",
              "    </tr>\n",
              "    <tr>\n",
              "      <th>2010-11-22</th>\n",
              "      <td>2041.536011</td>\n",
              "      <td>142.354004</td>\n",
              "      <td>345883.84375</td>\n",
              "      <td>8660.400391</td>\n",
              "      <td>4855.0</td>\n",
              "      <td>2110.0</td>\n",
              "      <td>10136.0</td>\n",
              "      <td>2010-11-22</td>\n",
              "    </tr>\n",
              "    <tr>\n",
              "      <th>2010-11-23</th>\n",
              "      <td>1577.536011</td>\n",
              "      <td>137.449997</td>\n",
              "      <td>346428.75000</td>\n",
              "      <td>6731.200195</td>\n",
              "      <td>1871.0</td>\n",
              "      <td>458.0</td>\n",
              "      <td>7611.0</td>\n",
              "      <td>2010-11-23</td>\n",
              "    </tr>\n",
              "    <tr>\n",
              "      <th>2010-11-24</th>\n",
              "      <td>1796.248047</td>\n",
              "      <td>132.460007</td>\n",
              "      <td>345644.59375</td>\n",
              "      <td>7559.399902</td>\n",
              "      <td>1096.0</td>\n",
              "      <td>2848.0</td>\n",
              "      <td>12224.0</td>\n",
              "      <td>2010-11-24</td>\n",
              "    </tr>\n",
              "    <tr>\n",
              "      <th>2010-11-25</th>\n",
              "      <td>1431.163940</td>\n",
              "      <td>116.127998</td>\n",
              "      <td>347812.21875</td>\n",
              "      <td>6004.000000</td>\n",
              "      <td>1076.0</td>\n",
              "      <td>426.0</td>\n",
              "      <td>5072.0</td>\n",
              "      <td>2010-11-25</td>\n",
              "    </tr>\n",
              "    <tr>\n",
              "      <th>2010-11-26</th>\n",
              "      <td>1488.104004</td>\n",
              "      <td>120.826004</td>\n",
              "      <td>303487.56250</td>\n",
              "      <td>6259.799805</td>\n",
              "      <td>1080.0</td>\n",
              "      <td>385.0</td>\n",
              "      <td>9989.0</td>\n",
              "      <td>2010-11-26</td>\n",
              "    </tr>\n",
              "  </tbody>\n",
              "</table>\n",
              "<p>1442 rows × 8 columns</p>\n",
              "</div>"
            ],
            "text/plain": [
              "            Global_active_power  ...    date_tt\n",
              "datetime                         ...           \n",
              "2006-12-16          1209.176025  ... 2006-12-16\n",
              "2006-12-17          3390.459961  ... 2006-12-17\n",
              "2006-12-18          2203.825928  ... 2006-12-18\n",
              "2006-12-19          1666.193970  ... 2006-12-19\n",
              "2006-12-20          2225.748047  ... 2006-12-20\n",
              "...                         ...  ...        ...\n",
              "2010-11-22          2041.536011  ... 2010-11-22\n",
              "2010-11-23          1577.536011  ... 2010-11-23\n",
              "2010-11-24          1796.248047  ... 2010-11-24\n",
              "2010-11-25          1431.163940  ... 2010-11-25\n",
              "2010-11-26          1488.104004  ... 2010-11-26\n",
              "\n",
              "[1442 rows x 8 columns]"
            ]
          },
          "metadata": {},
          "execution_count": 21
        }
      ]
    },
    {
      "cell_type": "code",
      "metadata": {
        "id": "VF_hHSgPh0xx"
      },
      "source": [
        "df_elc_daily = df_elc_daily.rename(columns={\"date_tt\" : \"ds\" , \"Global_active_power\" : \"y\"}) "
      ],
      "execution_count": 22,
      "outputs": []
    },
    {
      "cell_type": "code",
      "metadata": {
        "id": "rCJm9s4almNd",
        "outputId": "b5ac3661-c3a8-4594-ad31-84b8a28274b8",
        "colab": {
          "base_uri": "https://localhost:8080/",
          "height": 450
        }
      },
      "source": [
        "df_elc_daily"
      ],
      "execution_count": 23,
      "outputs": [
        {
          "output_type": "execute_result",
          "data": {
            "text/html": [
              "<div>\n",
              "<style scoped>\n",
              "    .dataframe tbody tr th:only-of-type {\n",
              "        vertical-align: middle;\n",
              "    }\n",
              "\n",
              "    .dataframe tbody tr th {\n",
              "        vertical-align: top;\n",
              "    }\n",
              "\n",
              "    .dataframe thead th {\n",
              "        text-align: right;\n",
              "    }\n",
              "</style>\n",
              "<table border=\"1\" class=\"dataframe\">\n",
              "  <thead>\n",
              "    <tr style=\"text-align: right;\">\n",
              "      <th></th>\n",
              "      <th>y</th>\n",
              "      <th>Global_reactive_power</th>\n",
              "      <th>Voltage</th>\n",
              "      <th>Global_intensity</th>\n",
              "      <th>Sub_metering_1</th>\n",
              "      <th>Sub_metering_2</th>\n",
              "      <th>Sub_metering_3</th>\n",
              "      <th>ds</th>\n",
              "    </tr>\n",
              "    <tr>\n",
              "      <th>datetime</th>\n",
              "      <th></th>\n",
              "      <th></th>\n",
              "      <th></th>\n",
              "      <th></th>\n",
              "      <th></th>\n",
              "      <th></th>\n",
              "      <th></th>\n",
              "      <th></th>\n",
              "    </tr>\n",
              "  </thead>\n",
              "  <tbody>\n",
              "    <tr>\n",
              "      <th>2006-12-16</th>\n",
              "      <td>1209.176025</td>\n",
              "      <td>34.922001</td>\n",
              "      <td>93552.53125</td>\n",
              "      <td>5180.799805</td>\n",
              "      <td>0.0</td>\n",
              "      <td>546.0</td>\n",
              "      <td>4926.0</td>\n",
              "      <td>2006-12-16</td>\n",
              "    </tr>\n",
              "    <tr>\n",
              "      <th>2006-12-17</th>\n",
              "      <td>3390.459961</td>\n",
              "      <td>226.005997</td>\n",
              "      <td>345725.31250</td>\n",
              "      <td>14398.599609</td>\n",
              "      <td>2033.0</td>\n",
              "      <td>4187.0</td>\n",
              "      <td>13341.0</td>\n",
              "      <td>2006-12-17</td>\n",
              "    </tr>\n",
              "    <tr>\n",
              "      <th>2006-12-18</th>\n",
              "      <td>2203.825928</td>\n",
              "      <td>161.792007</td>\n",
              "      <td>347373.62500</td>\n",
              "      <td>9247.200195</td>\n",
              "      <td>1063.0</td>\n",
              "      <td>2621.0</td>\n",
              "      <td>14018.0</td>\n",
              "      <td>2006-12-18</td>\n",
              "    </tr>\n",
              "    <tr>\n",
              "      <th>2006-12-19</th>\n",
              "      <td>1666.193970</td>\n",
              "      <td>150.942001</td>\n",
              "      <td>348479.00000</td>\n",
              "      <td>7094.000000</td>\n",
              "      <td>839.0</td>\n",
              "      <td>7602.0</td>\n",
              "      <td>6197.0</td>\n",
              "      <td>2006-12-19</td>\n",
              "    </tr>\n",
              "    <tr>\n",
              "      <th>2006-12-20</th>\n",
              "      <td>2225.748047</td>\n",
              "      <td>160.998001</td>\n",
              "      <td>348923.62500</td>\n",
              "      <td>9313.000000</td>\n",
              "      <td>0.0</td>\n",
              "      <td>2648.0</td>\n",
              "      <td>14063.0</td>\n",
              "      <td>2006-12-20</td>\n",
              "    </tr>\n",
              "    <tr>\n",
              "      <th>...</th>\n",
              "      <td>...</td>\n",
              "      <td>...</td>\n",
              "      <td>...</td>\n",
              "      <td>...</td>\n",
              "      <td>...</td>\n",
              "      <td>...</td>\n",
              "      <td>...</td>\n",
              "      <td>...</td>\n",
              "    </tr>\n",
              "    <tr>\n",
              "      <th>2010-11-22</th>\n",
              "      <td>2041.536011</td>\n",
              "      <td>142.354004</td>\n",
              "      <td>345883.84375</td>\n",
              "      <td>8660.400391</td>\n",
              "      <td>4855.0</td>\n",
              "      <td>2110.0</td>\n",
              "      <td>10136.0</td>\n",
              "      <td>2010-11-22</td>\n",
              "    </tr>\n",
              "    <tr>\n",
              "      <th>2010-11-23</th>\n",
              "      <td>1577.536011</td>\n",
              "      <td>137.449997</td>\n",
              "      <td>346428.75000</td>\n",
              "      <td>6731.200195</td>\n",
              "      <td>1871.0</td>\n",
              "      <td>458.0</td>\n",
              "      <td>7611.0</td>\n",
              "      <td>2010-11-23</td>\n",
              "    </tr>\n",
              "    <tr>\n",
              "      <th>2010-11-24</th>\n",
              "      <td>1796.248047</td>\n",
              "      <td>132.460007</td>\n",
              "      <td>345644.59375</td>\n",
              "      <td>7559.399902</td>\n",
              "      <td>1096.0</td>\n",
              "      <td>2848.0</td>\n",
              "      <td>12224.0</td>\n",
              "      <td>2010-11-24</td>\n",
              "    </tr>\n",
              "    <tr>\n",
              "      <th>2010-11-25</th>\n",
              "      <td>1431.163940</td>\n",
              "      <td>116.127998</td>\n",
              "      <td>347812.21875</td>\n",
              "      <td>6004.000000</td>\n",
              "      <td>1076.0</td>\n",
              "      <td>426.0</td>\n",
              "      <td>5072.0</td>\n",
              "      <td>2010-11-25</td>\n",
              "    </tr>\n",
              "    <tr>\n",
              "      <th>2010-11-26</th>\n",
              "      <td>1488.104004</td>\n",
              "      <td>120.826004</td>\n",
              "      <td>303487.56250</td>\n",
              "      <td>6259.799805</td>\n",
              "      <td>1080.0</td>\n",
              "      <td>385.0</td>\n",
              "      <td>9989.0</td>\n",
              "      <td>2010-11-26</td>\n",
              "    </tr>\n",
              "  </tbody>\n",
              "</table>\n",
              "<p>1442 rows × 8 columns</p>\n",
              "</div>"
            ],
            "text/plain": [
              "                      y  Global_reactive_power  ...  Sub_metering_3         ds\n",
              "datetime                                        ...                           \n",
              "2006-12-16  1209.176025              34.922001  ...          4926.0 2006-12-16\n",
              "2006-12-17  3390.459961             226.005997  ...         13341.0 2006-12-17\n",
              "2006-12-18  2203.825928             161.792007  ...         14018.0 2006-12-18\n",
              "2006-12-19  1666.193970             150.942001  ...          6197.0 2006-12-19\n",
              "2006-12-20  2225.748047             160.998001  ...         14063.0 2006-12-20\n",
              "...                 ...                    ...  ...             ...        ...\n",
              "2010-11-22  2041.536011             142.354004  ...         10136.0 2010-11-22\n",
              "2010-11-23  1577.536011             137.449997  ...          7611.0 2010-11-23\n",
              "2010-11-24  1796.248047             132.460007  ...         12224.0 2010-11-24\n",
              "2010-11-25  1431.163940             116.127998  ...          5072.0 2010-11-25\n",
              "2010-11-26  1488.104004             120.826004  ...          9989.0 2010-11-26\n",
              "\n",
              "[1442 rows x 8 columns]"
            ]
          },
          "metadata": {},
          "execution_count": 23
        }
      ]
    },
    {
      "cell_type": "code",
      "metadata": {
        "id": "m87NONYOiYkY"
      },
      "source": [
        "test_size = 365\n",
        "\n",
        "df_d_train = df_elc_daily[:-test_size]\n",
        "df_d_test = df_elc_daily[-test_size:]"
      ],
      "execution_count": 24,
      "outputs": []
    },
    {
      "cell_type": "code",
      "metadata": {
        "id": "_vMtjVXdpfxm",
        "outputId": "a12d61d8-cafe-4ab2-e855-89afebacb117",
        "colab": {
          "base_uri": "https://localhost:8080/",
          "height": 450
        }
      },
      "source": [
        "df_d_test"
      ],
      "execution_count": 25,
      "outputs": [
        {
          "output_type": "execute_result",
          "data": {
            "text/html": [
              "<div>\n",
              "<style scoped>\n",
              "    .dataframe tbody tr th:only-of-type {\n",
              "        vertical-align: middle;\n",
              "    }\n",
              "\n",
              "    .dataframe tbody tr th {\n",
              "        vertical-align: top;\n",
              "    }\n",
              "\n",
              "    .dataframe thead th {\n",
              "        text-align: right;\n",
              "    }\n",
              "</style>\n",
              "<table border=\"1\" class=\"dataframe\">\n",
              "  <thead>\n",
              "    <tr style=\"text-align: right;\">\n",
              "      <th></th>\n",
              "      <th>y</th>\n",
              "      <th>Global_reactive_power</th>\n",
              "      <th>Voltage</th>\n",
              "      <th>Global_intensity</th>\n",
              "      <th>Sub_metering_1</th>\n",
              "      <th>Sub_metering_2</th>\n",
              "      <th>Sub_metering_3</th>\n",
              "      <th>ds</th>\n",
              "    </tr>\n",
              "    <tr>\n",
              "      <th>datetime</th>\n",
              "      <th></th>\n",
              "      <th></th>\n",
              "      <th></th>\n",
              "      <th></th>\n",
              "      <th></th>\n",
              "      <th></th>\n",
              "      <th></th>\n",
              "      <th></th>\n",
              "    </tr>\n",
              "  </thead>\n",
              "  <tbody>\n",
              "    <tr>\n",
              "      <th>2009-11-27</th>\n",
              "      <td>1380.026001</td>\n",
              "      <td>133.052002</td>\n",
              "      <td>348276.68750</td>\n",
              "      <td>5704.000000</td>\n",
              "      <td>0.0</td>\n",
              "      <td>396.0</td>\n",
              "      <td>11599.0</td>\n",
              "      <td>2009-11-27</td>\n",
              "    </tr>\n",
              "    <tr>\n",
              "      <th>2009-11-28</th>\n",
              "      <td>1858.949951</td>\n",
              "      <td>225.218002</td>\n",
              "      <td>347898.87500</td>\n",
              "      <td>7784.799805</td>\n",
              "      <td>3199.0</td>\n",
              "      <td>386.0</td>\n",
              "      <td>14350.0</td>\n",
              "      <td>2009-11-28</td>\n",
              "    </tr>\n",
              "    <tr>\n",
              "      <th>2009-11-29</th>\n",
              "      <td>1650.962036</td>\n",
              "      <td>191.056000</td>\n",
              "      <td>350364.56250</td>\n",
              "      <td>6878.399902</td>\n",
              "      <td>1073.0</td>\n",
              "      <td>3061.0</td>\n",
              "      <td>7828.0</td>\n",
              "      <td>2009-11-29</td>\n",
              "    </tr>\n",
              "    <tr>\n",
              "      <th>2009-11-30</th>\n",
              "      <td>1745.189941</td>\n",
              "      <td>153.382004</td>\n",
              "      <td>351020.59375</td>\n",
              "      <td>7232.200195</td>\n",
              "      <td>1080.0</td>\n",
              "      <td>361.0</td>\n",
              "      <td>12039.0</td>\n",
              "      <td>2009-11-30</td>\n",
              "    </tr>\n",
              "    <tr>\n",
              "      <th>2009-12-01</th>\n",
              "      <td>1756.378052</td>\n",
              "      <td>141.873993</td>\n",
              "      <td>349391.75000</td>\n",
              "      <td>7312.799805</td>\n",
              "      <td>0.0</td>\n",
              "      <td>354.0</td>\n",
              "      <td>10821.0</td>\n",
              "      <td>2009-12-01</td>\n",
              "    </tr>\n",
              "    <tr>\n",
              "      <th>...</th>\n",
              "      <td>...</td>\n",
              "      <td>...</td>\n",
              "      <td>...</td>\n",
              "      <td>...</td>\n",
              "      <td>...</td>\n",
              "      <td>...</td>\n",
              "      <td>...</td>\n",
              "      <td>...</td>\n",
              "    </tr>\n",
              "    <tr>\n",
              "      <th>2010-11-22</th>\n",
              "      <td>2041.536011</td>\n",
              "      <td>142.354004</td>\n",
              "      <td>345883.84375</td>\n",
              "      <td>8660.400391</td>\n",
              "      <td>4855.0</td>\n",
              "      <td>2110.0</td>\n",
              "      <td>10136.0</td>\n",
              "      <td>2010-11-22</td>\n",
              "    </tr>\n",
              "    <tr>\n",
              "      <th>2010-11-23</th>\n",
              "      <td>1577.536011</td>\n",
              "      <td>137.449997</td>\n",
              "      <td>346428.75000</td>\n",
              "      <td>6731.200195</td>\n",
              "      <td>1871.0</td>\n",
              "      <td>458.0</td>\n",
              "      <td>7611.0</td>\n",
              "      <td>2010-11-23</td>\n",
              "    </tr>\n",
              "    <tr>\n",
              "      <th>2010-11-24</th>\n",
              "      <td>1796.248047</td>\n",
              "      <td>132.460007</td>\n",
              "      <td>345644.59375</td>\n",
              "      <td>7559.399902</td>\n",
              "      <td>1096.0</td>\n",
              "      <td>2848.0</td>\n",
              "      <td>12224.0</td>\n",
              "      <td>2010-11-24</td>\n",
              "    </tr>\n",
              "    <tr>\n",
              "      <th>2010-11-25</th>\n",
              "      <td>1431.163940</td>\n",
              "      <td>116.127998</td>\n",
              "      <td>347812.21875</td>\n",
              "      <td>6004.000000</td>\n",
              "      <td>1076.0</td>\n",
              "      <td>426.0</td>\n",
              "      <td>5072.0</td>\n",
              "      <td>2010-11-25</td>\n",
              "    </tr>\n",
              "    <tr>\n",
              "      <th>2010-11-26</th>\n",
              "      <td>1488.104004</td>\n",
              "      <td>120.826004</td>\n",
              "      <td>303487.56250</td>\n",
              "      <td>6259.799805</td>\n",
              "      <td>1080.0</td>\n",
              "      <td>385.0</td>\n",
              "      <td>9989.0</td>\n",
              "      <td>2010-11-26</td>\n",
              "    </tr>\n",
              "  </tbody>\n",
              "</table>\n",
              "<p>365 rows × 8 columns</p>\n",
              "</div>"
            ],
            "text/plain": [
              "                      y  Global_reactive_power  ...  Sub_metering_3         ds\n",
              "datetime                                        ...                           \n",
              "2009-11-27  1380.026001             133.052002  ...         11599.0 2009-11-27\n",
              "2009-11-28  1858.949951             225.218002  ...         14350.0 2009-11-28\n",
              "2009-11-29  1650.962036             191.056000  ...          7828.0 2009-11-29\n",
              "2009-11-30  1745.189941             153.382004  ...         12039.0 2009-11-30\n",
              "2009-12-01  1756.378052             141.873993  ...         10821.0 2009-12-01\n",
              "...                 ...                    ...  ...             ...        ...\n",
              "2010-11-22  2041.536011             142.354004  ...         10136.0 2010-11-22\n",
              "2010-11-23  1577.536011             137.449997  ...          7611.0 2010-11-23\n",
              "2010-11-24  1796.248047             132.460007  ...         12224.0 2010-11-24\n",
              "2010-11-25  1431.163940             116.127998  ...          5072.0 2010-11-25\n",
              "2010-11-26  1488.104004             120.826004  ...          9989.0 2010-11-26\n",
              "\n",
              "[365 rows x 8 columns]"
            ]
          },
          "metadata": {},
          "execution_count": 25
        }
      ]
    },
    {
      "cell_type": "code",
      "metadata": {
        "id": "6eGcsZgTj0oI"
      },
      "source": [
        "from fbprophet import Prophet \n",
        "model_en = Prophet() "
      ],
      "execution_count": 26,
      "outputs": []
    },
    {
      "cell_type": "code",
      "metadata": {
        "id": "UA0y4sBikAnI",
        "outputId": "0f841bd8-50d8-4a79-abbc-fbbf6f02b462",
        "colab": {
          "base_uri": "https://localhost:8080/"
        }
      },
      "source": [
        "model_en.fit(df_d_train) "
      ],
      "execution_count": 27,
      "outputs": [
        {
          "output_type": "stream",
          "name": "stderr",
          "text": [
            "INFO:fbprophet:Disabling daily seasonality. Run prophet with daily_seasonality=True to override this.\n"
          ]
        },
        {
          "output_type": "execute_result",
          "data": {
            "text/plain": [
              "<fbprophet.forecaster.Prophet at 0x7f6445492b90>"
            ]
          },
          "metadata": {},
          "execution_count": 27
        }
      ]
    },
    {
      "cell_type": "code",
      "metadata": {
        "id": "dmzsoqTulsBX",
        "outputId": "b0734992-9afc-4548-937d-65d61a1b5d32",
        "colab": {
          "base_uri": "https://localhost:8080/",
          "height": 309
        }
      },
      "source": [
        "#predict for the next 365 days \n",
        "future = model_en.make_future_dataframe(periods= 365) \n",
        "forecast = model_en.predict(future) \n",
        "forecast.head() "
      ],
      "execution_count": 28,
      "outputs": [
        {
          "output_type": "execute_result",
          "data": {
            "text/html": [
              "<div>\n",
              "<style scoped>\n",
              "    .dataframe tbody tr th:only-of-type {\n",
              "        vertical-align: middle;\n",
              "    }\n",
              "\n",
              "    .dataframe tbody tr th {\n",
              "        vertical-align: top;\n",
              "    }\n",
              "\n",
              "    .dataframe thead th {\n",
              "        text-align: right;\n",
              "    }\n",
              "</style>\n",
              "<table border=\"1\" class=\"dataframe\">\n",
              "  <thead>\n",
              "    <tr style=\"text-align: right;\">\n",
              "      <th></th>\n",
              "      <th>ds</th>\n",
              "      <th>trend</th>\n",
              "      <th>yhat_lower</th>\n",
              "      <th>yhat_upper</th>\n",
              "      <th>trend_lower</th>\n",
              "      <th>trend_upper</th>\n",
              "      <th>additive_terms</th>\n",
              "      <th>additive_terms_lower</th>\n",
              "      <th>additive_terms_upper</th>\n",
              "      <th>weekly</th>\n",
              "      <th>weekly_lower</th>\n",
              "      <th>weekly_upper</th>\n",
              "      <th>yearly</th>\n",
              "      <th>yearly_lower</th>\n",
              "      <th>yearly_upper</th>\n",
              "      <th>multiplicative_terms</th>\n",
              "      <th>multiplicative_terms_lower</th>\n",
              "      <th>multiplicative_terms_upper</th>\n",
              "      <th>yhat</th>\n",
              "    </tr>\n",
              "  </thead>\n",
              "  <tbody>\n",
              "    <tr>\n",
              "      <th>0</th>\n",
              "      <td>2006-12-16</td>\n",
              "      <td>1650.071328</td>\n",
              "      <td>1875.163669</td>\n",
              "      <td>3006.031557</td>\n",
              "      <td>1650.071328</td>\n",
              "      <td>1650.071328</td>\n",
              "      <td>775.004842</td>\n",
              "      <td>775.004842</td>\n",
              "      <td>775.004842</td>\n",
              "      <td>245.813256</td>\n",
              "      <td>245.813256</td>\n",
              "      <td>245.813256</td>\n",
              "      <td>529.191586</td>\n",
              "      <td>529.191586</td>\n",
              "      <td>529.191586</td>\n",
              "      <td>0.0</td>\n",
              "      <td>0.0</td>\n",
              "      <td>0.0</td>\n",
              "      <td>2425.076170</td>\n",
              "    </tr>\n",
              "    <tr>\n",
              "      <th>1</th>\n",
              "      <td>2006-12-17</td>\n",
              "      <td>1649.910702</td>\n",
              "      <td>1876.496322</td>\n",
              "      <td>2991.333401</td>\n",
              "      <td>1649.910702</td>\n",
              "      <td>1649.910702</td>\n",
              "      <td>771.844221</td>\n",
              "      <td>771.844221</td>\n",
              "      <td>771.844221</td>\n",
              "      <td>228.519177</td>\n",
              "      <td>228.519177</td>\n",
              "      <td>228.519177</td>\n",
              "      <td>543.325044</td>\n",
              "      <td>543.325044</td>\n",
              "      <td>543.325044</td>\n",
              "      <td>0.0</td>\n",
              "      <td>0.0</td>\n",
              "      <td>0.0</td>\n",
              "      <td>2421.754924</td>\n",
              "    </tr>\n",
              "    <tr>\n",
              "      <th>2</th>\n",
              "      <td>2006-12-18</td>\n",
              "      <td>1649.750077</td>\n",
              "      <td>1414.223414</td>\n",
              "      <td>2597.469847</td>\n",
              "      <td>1649.750077</td>\n",
              "      <td>1649.750077</td>\n",
              "      <td>397.001867</td>\n",
              "      <td>397.001867</td>\n",
              "      <td>397.001867</td>\n",
              "      <td>-161.286790</td>\n",
              "      <td>-161.286790</td>\n",
              "      <td>-161.286790</td>\n",
              "      <td>558.288657</td>\n",
              "      <td>558.288657</td>\n",
              "      <td>558.288657</td>\n",
              "      <td>0.0</td>\n",
              "      <td>0.0</td>\n",
              "      <td>0.0</td>\n",
              "      <td>2046.751944</td>\n",
              "    </tr>\n",
              "    <tr>\n",
              "      <th>3</th>\n",
              "      <td>2006-12-19</td>\n",
              "      <td>1649.589452</td>\n",
              "      <td>1621.442611</td>\n",
              "      <td>2768.984381</td>\n",
              "      <td>1649.589452</td>\n",
              "      <td>1649.589452</td>\n",
              "      <td>544.306666</td>\n",
              "      <td>544.306666</td>\n",
              "      <td>544.306666</td>\n",
              "      <td>-29.332428</td>\n",
              "      <td>-29.332428</td>\n",
              "      <td>-29.332428</td>\n",
              "      <td>573.639094</td>\n",
              "      <td>573.639094</td>\n",
              "      <td>573.639094</td>\n",
              "      <td>0.0</td>\n",
              "      <td>0.0</td>\n",
              "      <td>0.0</td>\n",
              "      <td>2193.896118</td>\n",
              "    </tr>\n",
              "    <tr>\n",
              "      <th>4</th>\n",
              "      <td>2006-12-20</td>\n",
              "      <td>1649.428826</td>\n",
              "      <td>1621.029721</td>\n",
              "      <td>2806.233040</td>\n",
              "      <td>1649.428826</td>\n",
              "      <td>1649.428826</td>\n",
              "      <td>564.208290</td>\n",
              "      <td>564.208290</td>\n",
              "      <td>564.208290</td>\n",
              "      <td>-24.708851</td>\n",
              "      <td>-24.708851</td>\n",
              "      <td>-24.708851</td>\n",
              "      <td>588.917141</td>\n",
              "      <td>588.917141</td>\n",
              "      <td>588.917141</td>\n",
              "      <td>0.0</td>\n",
              "      <td>0.0</td>\n",
              "      <td>0.0</td>\n",
              "      <td>2213.637116</td>\n",
              "    </tr>\n",
              "  </tbody>\n",
              "</table>\n",
              "</div>"
            ],
            "text/plain": [
              "          ds        trend  ...  multiplicative_terms_upper         yhat\n",
              "0 2006-12-16  1650.071328  ...                         0.0  2425.076170\n",
              "1 2006-12-17  1649.910702  ...                         0.0  2421.754924\n",
              "2 2006-12-18  1649.750077  ...                         0.0  2046.751944\n",
              "3 2006-12-19  1649.589452  ...                         0.0  2193.896118\n",
              "4 2006-12-20  1649.428826  ...                         0.0  2213.637116\n",
              "\n",
              "[5 rows x 19 columns]"
            ]
          },
          "metadata": {},
          "execution_count": 28
        }
      ]
    }
  ]
}